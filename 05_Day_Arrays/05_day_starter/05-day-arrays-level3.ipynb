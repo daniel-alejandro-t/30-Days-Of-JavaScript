{
 "cells": [
  {
   "cell_type": "markdown",
   "metadata": {},
   "source": [
    "# Exercise: Level 3"
   ]
  },
  {
   "cell_type": "markdown",
   "metadata": {},
   "source": [
    "1. The following is an array of 10 students ages:"
   ]
  },
  {
   "cell_type": "code",
   "execution_count": 2,
   "metadata": {},
   "outputs": [],
   "source": [
    "const ages = [19, 22, 19, 24, 20, 25, 26, 24, 25, 24]"
   ]
  },
  {
   "cell_type": "markdown",
   "metadata": {},
   "source": [
    "- Sort the array and find the min and max age"
   ]
  },
  {
   "cell_type": "code",
   "execution_count": 2,
   "metadata": {},
   "outputs": [
    {
     "data": {
      "text/plain": [
       "[\n",
       "  19, 19, 20, 22, 24,\n",
       "  24, 24, 25, 25, 26\n",
       "]"
      ]
     },
     "execution_count": 2,
     "metadata": {},
     "output_type": "execute_result"
    }
   ],
   "source": [
    "ages.sort()"
   ]
  },
  {
   "cell_type": "code",
   "execution_count": 6,
   "metadata": {},
   "outputs": [
    {
     "data": {
      "text/plain": [
       "19"
      ]
     },
     "execution_count": 6,
     "metadata": {},
     "output_type": "execute_result"
    }
   ],
   "source": [
    "ages.sort()[0]"
   ]
  },
  {
   "cell_type": "code",
   "execution_count": 9,
   "metadata": {},
   "outputs": [
    {
     "data": {
      "text/plain": [
       "26"
      ]
     },
     "execution_count": 9,
     "metadata": {},
     "output_type": "execute_result"
    }
   ],
   "source": [
    "ages.sort()[ages.length - 1]"
   ]
  },
  {
   "cell_type": "markdown",
   "metadata": {},
   "source": [
    "- Find the median age(one middle item or two middle items divided by two)"
   ]
  },
  {
   "cell_type": "code",
   "execution_count": 10,
   "metadata": {},
   "outputs": [
    {
     "data": {
      "text/plain": [
       "24"
      ]
     },
     "execution_count": 10,
     "metadata": {},
     "output_type": "execute_result"
    }
   ],
   "source": [
    "ages.sort()[(ages.length) / 2 ] "
   ]
  },
  {
   "cell_type": "markdown",
   "metadata": {},
   "source": [
    "- Find the average age(all items divided by number of items)"
   ]
  },
  {
   "cell_type": "code",
   "execution_count": 11,
   "metadata": {},
   "outputs": [
    {
     "data": {
      "text/plain": [
       "22.8"
      ]
     },
     "execution_count": 11,
     "metadata": {},
     "output_type": "execute_result"
    }
   ],
   "source": [
    "totalAges = 0\n",
    "\n",
    "ages.forEach(age => {\n",
    "    totalAges += age\n",
    "});\n",
    "\n",
    "totalAges / ages.length"
   ]
  },
  {
   "cell_type": "markdown",
   "metadata": {},
   "source": [
    "- Find the range of the ages(max minus min)"
   ]
  },
  {
   "cell_type": "code",
   "execution_count": 3,
   "metadata": {},
   "outputs": [
    {
     "name": "stdout",
     "output_type": "stream",
     "text": [
      "7\n"
     ]
    }
   ],
   "source": [
    "ages = [19, 22, 19, 24, 20, 25, 26, 24, 25, 24]\n",
    "\n",
    "agesSort = ages.sort()\n",
    "\n",
    "console.log( agesSort[agesSort.length - 1] - agesSort[0] )"
   ]
  },
  {
   "cell_type": "markdown",
   "metadata": {},
   "source": [
    "- Compare the value of (min - average) and (max - average), use abs() method 1.Slice the first ten countries from the countries array"
   ]
  },
  {
   "cell_type": "code",
   "execution_count": 7,
   "metadata": {},
   "outputs": [
    {
     "data": {
      "text/plain": [
       "'Afghanistan'"
      ]
     },
     "execution_count": 7,
     "metadata": {},
     "output_type": "execute_result"
    }
   ],
   "source": [
    "countries[0]"
   ]
  },
  {
   "cell_type": "code",
   "execution_count": 8,
   "metadata": {},
   "outputs": [
    {
     "data": {
      "text/plain": [
       "'Zimbabwe'"
      ]
     },
     "execution_count": 8,
     "metadata": {},
     "output_type": "execute_result"
    }
   ],
   "source": [
    "countries[countries.length - 1]"
   ]
  },
  {
   "cell_type": "markdown",
   "metadata": {},
   "source": [
    "2. Find the middle country(ies) in the countries array"
   ]
  },
  {
   "cell_type": "code",
   "execution_count": 21,
   "metadata": {},
   "outputs": [
    {
     "data": {
      "text/plain": [
       "'Lesotho'"
      ]
     },
     "execution_count": 21,
     "metadata": {},
     "output_type": "execute_result"
    }
   ],
   "source": [
    "middelPosition = parseInt(countries.length / 2)\n",
    "countries[middelPosition]"
   ]
  },
  {
   "cell_type": "markdown",
   "metadata": {},
   "source": [
    "3. Divide the countries array into two equal arrays if it is even. If countries array is not even , one more country for the first half."
   ]
  },
  {
   "cell_type": "code",
   "execution_count": 24,
   "metadata": {},
   "outputs": [
    {
     "data": {
      "text/plain": [
       "[\n",
       "  'Liberia',               'Libya',                 'Liechtenstein',\n",
       "  'Lithuania',             'Luxembourg',            'Macedonia',\n",
       "  'Madagascar',            'Malawi',                'Malaysia',\n",
       "  'Maldives',              'Mali',                  'Malta',\n",
       "  'Marshall Islands',      'Mauritania',            'Mauritius',\n",
       "  'Mexico',                'Micronesia',            'Moldova',\n",
       "  'Monaco',                'Mongolia',              'Morocco',\n",
       "  'Mozambique',            'Myanmar',               'Namibia',\n",
       "  'Nauru',                 'Nepal',                 'Netherlands',\n",
       "  'New Zealand',           'Nicaragua',             'Niger',\n",
       "  'Nigeria',               'Norway',                'Oman',\n",
       "  'Pakistan',              'Palau',                 'Panama',\n",
       "  'Papua New Guinea',      'Paraguay',              'Peru',\n",
       "  'Philippines',           'Poland',                'Portugal',\n",
       "  'Qatar',                 'Romania',               'Russia',\n",
       "  'Rwanda',                'Saint Kitts and Nevis', 'Saint Lucia',\n",
       "  'Saint Vincent',         'Samoa',                 'San Marino',\n",
       "  'Sao Tome and Principe', 'Saudi Arabia',          'Senegal',\n",
       "  'Serbia and Montenegro', 'Seychelles',            'Sierra Leone',\n",
       "  'Singapore',             'Slovakia',              'Slovenia',\n",
       "  'Solomon Islands',       'Somalia',               'South Africa',\n",
       "  'Spain',                 'Sri Lanka',             'Sudan',\n",
       "  'Suriname',              'Swaziland',             'Sweden',\n",
       "  'Switzerland',           'Syria',                 'Taiwan',\n",
       "  'Tajikistan',            'Tanzania',              'Thailand',\n",
       "  'Togo',                  'Tonga',                 'Trinidad and Tobago',\n",
       "  'Tunisia',               'Turkey',                'Turkmenistan',\n",
       "  'Tuvalu',                'Uganda',                'Ukraine',\n",
       "  'United Arab Emirates',  'United Kingdom',        'United States',\n",
       "  'Uruguay',               'Uzbekistan',            'Vanuatu',\n",
       "  'Vatican City',          'Venezuela',             'Vietnam',\n",
       "  'Yemen',                 'Zambia',                'Zimbabwe'\n",
       "]"
      ]
     },
     "execution_count": 24,
     "metadata": {},
     "output_type": "execute_result"
    }
   ],
   "source": [
    "if (countries.length % 2 != 0){\n",
    "    ++middelPosition\n",
    "}\n",
    "\n",
    "countries.slice(middelPosition)"
   ]
  },
  {
   "cell_type": "code",
   "execution_count": 10,
   "metadata": {},
   "outputs": [
    {
     "ename": "SyntaxError",
     "evalue": "Identifier 'countries' has already been declared",
     "output_type": "error",
     "traceback": [
      "evalmachine.<anonymous>:1",
      "const countries = [",
      "^",
      "",
      "SyntaxError: Identifier 'countries' has already been declared",
      "    at evalmachine.<anonymous>:1:1",
      "    at Script.runInThisContext (vm.js:120:18)",
      "    at Object.runInThisContext (vm.js:309:38)",
      "    at run ([eval]:1020:15)",
      "    at onRunRequest ([eval]:864:18)",
      "    at onMessage ([eval]:828:13)",
      "    at process.emit (events.js:314:20)",
      "    at emit (internal/child_process.js:877:12)",
      "    at processTicksAndRejections (internal/process/task_queues.js:85:21)"
     ]
    }
   ],
   "source": [
    "const countries = [\n",
    "    'Afghanistan',\n",
    "    'Albania',\n",
    "    'Algeria',\n",
    "    'Andorra',\n",
    "    'Angola',\n",
    "    'Antigua and Barbuda',\n",
    "    'Argentina',\n",
    "    'Armenia',\n",
    "    'Australia',\n",
    "    'Austria',\n",
    "    'Azerbaijan',\n",
    "    'Bahamas',\n",
    "    'Bahrain',\n",
    "    'Bangladesh',\n",
    "    'Barbados',\n",
    "    'Belarus',\n",
    "    'Belgium',\n",
    "    'Belize',\n",
    "    'Benin',\n",
    "    'Bhutan',\n",
    "    'Bolivia',\n",
    "    'Bosnia and Herzegovina',\n",
    "    'Botswana',\n",
    "    'Brazil',\n",
    "    'Brunei',\n",
    "    'Bulgaria',\n",
    "    'Burkina Faso',\n",
    "    'Burundi',\n",
    "    'Cambodia',\n",
    "    'Cameroon',\n",
    "    'Canada',\n",
    "    'Cape Verde',\n",
    "    'Central African Republic',\n",
    "    'Chad',\n",
    "    'Chile',\n",
    "    'China',\n",
    "    'Colombi',\n",
    "    'Comoros',\n",
    "    'Congo (Brazzaville)',\n",
    "    'Congo',\n",
    "    'Costa Rica',\n",
    "    \"Cote d'Ivoire\",\n",
    "    'Croatia',\n",
    "    'Cuba',\n",
    "    'Cyprus',\n",
    "    'Czech Republic',\n",
    "    'Denmark',\n",
    "    'Djibouti',\n",
    "    'Dominica',\n",
    "    'Dominican Republic',\n",
    "    'East Timor (Timor Timur)',\n",
    "    'Ecuador',\n",
    "    'Egypt',\n",
    "    'El Salvador',\n",
    "    'Equatorial Guinea',\n",
    "    'Eritrea',\n",
    "    'Estonia',\n",
    "    'Ethiopia',\n",
    "    'Fiji',\n",
    "    'Finland',\n",
    "    'France',\n",
    "    'Gabon',\n",
    "    'Gambia, The',\n",
    "    'Georgia',\n",
    "    'Germany',\n",
    "    'Ghana',\n",
    "    'Greece',\n",
    "    'Grenada',\n",
    "    'Guatemala',\n",
    "    'Guinea',\n",
    "    'Guinea-Bissau',\n",
    "    'Guyana',\n",
    "    'Haiti',\n",
    "    'Honduras',\n",
    "    'Hungary',\n",
    "    'Iceland',\n",
    "    'India',\n",
    "    'Indonesia',\n",
    "    'Iran',\n",
    "    'Iraq',\n",
    "    'Ireland',\n",
    "    'Israel',\n",
    "    'Italy',\n",
    "    'Jamaica',\n",
    "    'Japan',\n",
    "    'Jordan',\n",
    "    'Kazakhstan',\n",
    "    'Kenya',\n",
    "    'Kiribati',\n",
    "    'Korea, North',\n",
    "    'Korea, South',\n",
    "    'Kuwait',\n",
    "    'Kyrgyzstan',\n",
    "    'Laos',\n",
    "    'Latvia',\n",
    "    'Lebanon',\n",
    "    'Lesotho',\n",
    "    'Liberia',\n",
    "    'Libya',\n",
    "    'Liechtenstein',\n",
    "    'Lithuania',\n",
    "    'Luxembourg',\n",
    "    'Macedonia',\n",
    "    'Madagascar',\n",
    "    'Malawi',\n",
    "    'Malaysia',\n",
    "    'Maldives',\n",
    "    'Mali',\n",
    "    'Malta',\n",
    "    'Marshall Islands',\n",
    "    'Mauritania',\n",
    "    'Mauritius',\n",
    "    'Mexico',\n",
    "    'Micronesia',\n",
    "    'Moldova',\n",
    "    'Monaco',\n",
    "    'Mongolia',\n",
    "    'Morocco',\n",
    "    'Mozambique',\n",
    "    'Myanmar',\n",
    "    'Namibia',\n",
    "    'Nauru',\n",
    "    'Nepal',\n",
    "    'Netherlands',\n",
    "    'New Zealand',\n",
    "    'Nicaragua',\n",
    "    'Niger',\n",
    "    'Nigeria',\n",
    "    'Norway',\n",
    "    'Oman',\n",
    "    'Pakistan',\n",
    "    'Palau',\n",
    "    'Panama',\n",
    "    'Papua New Guinea',\n",
    "    'Paraguay',\n",
    "    'Peru',\n",
    "    'Philippines',\n",
    "    'Poland',\n",
    "    'Portugal',\n",
    "    'Qatar',\n",
    "    'Romania',\n",
    "    'Russia',\n",
    "    'Rwanda',\n",
    "    'Saint Kitts and Nevis',\n",
    "    'Saint Lucia',\n",
    "    'Saint Vincent',\n",
    "    'Samoa',\n",
    "    'San Marino',\n",
    "    'Sao Tome and Principe',\n",
    "    'Saudi Arabia',\n",
    "    'Senegal',\n",
    "    'Serbia and Montenegro',\n",
    "    'Seychelles',\n",
    "    'Sierra Leone',\n",
    "    'Singapore',\n",
    "    'Slovakia',\n",
    "    'Slovenia',\n",
    "    'Solomon Islands',\n",
    "    'Somalia',\n",
    "    'South Africa',\n",
    "    'Spain',\n",
    "    'Sri Lanka',\n",
    "    'Sudan',\n",
    "    'Suriname',\n",
    "    'Swaziland',\n",
    "    'Sweden',\n",
    "    'Switzerland',\n",
    "    'Syria',\n",
    "    'Taiwan',\n",
    "    'Tajikistan',\n",
    "    'Tanzania',\n",
    "    'Thailand',\n",
    "    'Togo',\n",
    "    'Tonga',\n",
    "    'Trinidad and Tobago',\n",
    "    'Tunisia',\n",
    "    'Turkey',\n",
    "    'Turkmenistan',\n",
    "    'Tuvalu',\n",
    "    'Uganda',\n",
    "    'Ukraine',\n",
    "    'United Arab Emirates',\n",
    "    'United Kingdom',\n",
    "    'United States',\n",
    "    'Uruguay',\n",
    "    'Uzbekistan',\n",
    "    'Vanuatu',\n",
    "    'Vatican City',\n",
    "    'Venezuela',\n",
    "    'Vietnam',\n",
    "    'Yemen',\n",
    "    'Zambia',\n",
    "    'Zimbabwe'\n",
    "  ]\n",
    "  "
   ]
  }
 ],
 "metadata": {
  "kernelspec": {
   "display_name": "JavaScript (Node.js)",
   "language": "javascript",
   "name": "javascript"
  },
  "language_info": {
   "file_extension": ".js",
   "mimetype": "application/javascript",
   "name": "javascript",
   "version": "12.22.9"
  },
  "orig_nbformat": 4
 },
 "nbformat": 4,
 "nbformat_minor": 2
}
