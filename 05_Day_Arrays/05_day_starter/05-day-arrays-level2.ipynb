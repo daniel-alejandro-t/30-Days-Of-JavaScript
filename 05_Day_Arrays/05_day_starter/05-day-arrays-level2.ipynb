{
 "cells": [
  {
   "cell_type": "markdown",
   "metadata": {},
   "source": [
    "# Day 5\n",
    "## Arrays\n",
    "### Exercise: Level 2"
   ]
  },
  {
   "cell_type": "markdown",
   "metadata": {},
   "source": [
    "2. First remove all the punctuations and change the string to array and count the number of words in the array"
   ]
  },
  {
   "cell_type": "code",
   "execution_count": 1,
   "metadata": {},
   "outputs": [],
   "source": [
    "let text = 'I love teaching and empowering people. I teach HTML, CSS, JS, React, Python.'"
   ]
  },
  {
   "cell_type": "code",
   "execution_count": 15,
   "metadata": {},
   "outputs": [
    {
     "data": {
      "text/plain": [
       "'I love teaching and empowering people I teach HTML CSS JS React Python'"
      ]
     },
     "execution_count": 15,
     "metadata": {},
     "output_type": "execute_result"
    }
   ],
   "source": [
    "text = text.replace(/,/g, '').replace('.', '').replace('.', '')"
   ]
  },
  {
   "cell_type": "code",
   "execution_count": 16,
   "metadata": {},
   "outputs": [
    {
     "data": {
      "text/plain": [
       "[\n",
       "  'I',          'love',\n",
       "  'teaching',   'and',\n",
       "  'empowering', 'people',\n",
       "  'I',          'teach',\n",
       "  'HTML',       'CSS',\n",
       "  'JS',         'React',\n",
       "  'Python'\n",
       "]"
      ]
     },
     "execution_count": 16,
     "metadata": {},
     "output_type": "execute_result"
    }
   ],
   "source": [
    "text.split(' ')"
   ]
  },
  {
   "cell_type": "code",
   "execution_count": 17,
   "metadata": {},
   "outputs": [
    {
     "data": {
      "text/plain": [
       "13"
      ]
     },
     "execution_count": 17,
     "metadata": {},
     "output_type": "execute_result"
    }
   ],
   "source": [
    "text.split(' ').length"
   ]
  },
  {
   "cell_type": "markdown",
   "metadata": {},
   "source": [
    "3. In the following shopping cart add, remove, edit items"
   ]
  },
  {
   "cell_type": "code",
   "execution_count": 1,
   "metadata": {},
   "outputs": [],
   "source": [
    "const shoppingCart = ['Milk', 'Coffee', 'Tea', 'Honey']"
   ]
  },
  {
   "cell_type": "markdown",
   "metadata": {},
   "source": [
    "- add 'Meat' in the beginning of your shopping cart if it has not been already added"
   ]
  },
  {
   "cell_type": "code",
   "execution_count": 28,
   "metadata": {},
   "outputs": [
    {
     "name": "stdout",
     "output_type": "stream",
     "text": [
      "Array contains Meat\n"
     ]
    }
   ],
   "source": [
    "if (shoppingCart.indexOf('Meat') == -1){\n",
    "    shoppingCart.unshift('Meat')\n",
    "}else{\n",
    "    console.log('Array contains Meat')\n",
    "}"
   ]
  },
  {
   "cell_type": "markdown",
   "metadata": {},
   "source": [
    "- add Sugar at the end of you shopping cart if it has not been already added"
   ]
  },
  {
   "cell_type": "code",
   "execution_count": 31,
   "metadata": {},
   "outputs": [
    {
     "name": "stdout",
     "output_type": "stream",
     "text": [
      "List has this element.\n"
     ]
    }
   ],
   "source": [
    "(shoppingCart.indexOf('Sugar') == -1)? shoppingCart.push('Sugar'): console.log('List has this element.')"
   ]
  },
  {
   "cell_type": "markdown",
   "metadata": {},
   "source": [
    "- remove 'Honey' if you are allergic to honey"
   ]
  },
  {
   "cell_type": "code",
   "execution_count": 2,
   "metadata": {},
   "outputs": [
    {
     "data": {
      "text/plain": [
       "true"
      ]
     },
     "execution_count": 2,
     "metadata": {},
     "output_type": "execute_result"
    }
   ],
   "source": [
    "const isAllergic = true;\n",
    "\n",
    "(isAllergic && shoppingCart.indexOf('Honey') != -1)? delete shoppingCart[shoppingCart.indexOf('Honey')]: 'No honey in shopping car'"
   ]
  },
  {
   "cell_type": "code",
   "execution_count": 3,
   "metadata": {},
   "outputs": [
    {
     "data": {
      "text/plain": [
       "[ 'Milk', 'Coffee', 'Tea', <1 empty item> ]"
      ]
     },
     "execution_count": 3,
     "metadata": {},
     "output_type": "execute_result"
    }
   ],
   "source": [
    "shoppingCart"
   ]
  },
  {
   "cell_type": "markdown",
   "metadata": {},
   "source": [
    "- modify Tea to 'Green Tea'"
   ]
  },
  {
   "cell_type": "code",
   "execution_count": 4,
   "metadata": {},
   "outputs": [
    {
     "data": {
      "text/plain": [
       "'Green Tea'"
      ]
     },
     "execution_count": 4,
     "metadata": {},
     "output_type": "execute_result"
    }
   ],
   "source": [
    "shoppingCart[shoppingCart.indexOf('Tea')] = 'Green Tea'"
   ]
  },
  {
   "cell_type": "code",
   "execution_count": 5,
   "metadata": {},
   "outputs": [
    {
     "data": {
      "text/plain": [
       "[ 'Milk', 'Coffee', 'Green Tea', <1 empty item> ]"
      ]
     },
     "execution_count": 5,
     "metadata": {},
     "output_type": "execute_result"
    }
   ],
   "source": [
    "shoppingCart"
   ]
  },
  {
   "cell_type": "markdown",
   "metadata": {},
   "source": [
    "4. In countries array check if 'Ethiopia' exists in the array if it exists print 'ETHIOPIA'. If it does not exist add to the countries list."
   ]
  },
  {
   "cell_type": "code",
   "execution_count": 8,
   "metadata": {},
   "outputs": [
    {
     "data": {
      "text/plain": [
       "'ETHIOPIA'"
      ]
     },
     "execution_count": 8,
     "metadata": {},
     "output_type": "execute_result"
    }
   ],
   "source": [
    "(countries.indexOf('Ethiopia') != -1)? 'ETHIOPIA': countries.push('Ethiopia')"
   ]
  },
  {
   "cell_type": "markdown",
   "metadata": {},
   "source": [
    "5. In the webTechs array check if Sass exists in the array and if it exists print 'Sass is a CSS preprocess'. If it does not exist add Sass to the array and print the array."
   ]
  },
  {
   "cell_type": "code",
   "execution_count": 9,
   "metadata": {},
   "outputs": [],
   "source": [
    "const webTechs = [\n",
    "    'HTML',\n",
    "    'CSS',\n",
    "    'JavaScript',\n",
    "    'React',\n",
    "    'Redux',\n",
    "    'Node',\n",
    "    'MongoDB'\n",
    "  ]"
   ]
  },
  {
   "cell_type": "code",
   "execution_count": 10,
   "metadata": {},
   "outputs": [
    {
     "data": {
      "text/plain": [
       "8"
      ]
     },
     "execution_count": 10,
     "metadata": {},
     "output_type": "execute_result"
    }
   ],
   "source": [
    "(webTechs.indexOf('Sass') != -1)? console.log('Sass us a CSS preprocess'): webTechs.push('Sass')"
   ]
  },
  {
   "cell_type": "code",
   "execution_count": 11,
   "metadata": {},
   "outputs": [
    {
     "data": {
      "text/plain": [
       "[\n",
       "  'HTML',       'CSS',\n",
       "  'JavaScript', 'React',\n",
       "  'Redux',      'Node',\n",
       "  'MongoDB',    'Sass'\n",
       "]"
      ]
     },
     "execution_count": 11,
     "metadata": {},
     "output_type": "execute_result"
    }
   ],
   "source": [
    "webTechs"
   ]
  },
  {
   "cell_type": "markdown",
   "metadata": {},
   "source": [
    "6. Concatenate the following two variables and store it in a fullStack variable."
   ]
  },
  {
   "cell_type": "code",
   "execution_count": 13,
   "metadata": {},
   "outputs": [
    {
     "data": {
      "text/plain": [
       "'fullstack'"
      ]
     },
     "execution_count": 13,
     "metadata": {},
     "output_type": "execute_result"
    }
   ],
   "source": [
    "word1 = 'full'\n",
    "word2 = 'stack'\n",
    "\n",
    "word1.concat(word2)"
   ]
  },
  {
   "cell_type": "code",
   "execution_count": 7,
   "metadata": {},
   "outputs": [],
   "source": [
    "const countries = [\n",
    "    'Afghanistan',\n",
    "    'Albania',\n",
    "    'Algeria',\n",
    "    'Andorra',\n",
    "    'Angola',\n",
    "    'Antigua and Barbuda',\n",
    "    'Argentina',\n",
    "    'Armenia',\n",
    "    'Australia',\n",
    "    'Austria',\n",
    "    'Azerbaijan',\n",
    "    'Bahamas',\n",
    "    'Bahrain',\n",
    "    'Bangladesh',\n",
    "    'Barbados',\n",
    "    'Belarus',\n",
    "    'Belgium',\n",
    "    'Belize',\n",
    "    'Benin',\n",
    "    'Bhutan',\n",
    "    'Bolivia',\n",
    "    'Bosnia and Herzegovina',\n",
    "    'Botswana',\n",
    "    'Brazil',\n",
    "    'Brunei',\n",
    "    'Bulgaria',\n",
    "    'Burkina Faso',\n",
    "    'Burundi',\n",
    "    'Cambodia',\n",
    "    'Cameroon',\n",
    "    'Canada',\n",
    "    'Cape Verde',\n",
    "    'Central African Republic',\n",
    "    'Chad',\n",
    "    'Chile',\n",
    "    'China',\n",
    "    'Colombi',\n",
    "    'Comoros',\n",
    "    'Congo (Brazzaville)',\n",
    "    'Congo',\n",
    "    'Costa Rica',\n",
    "    \"Cote d'Ivoire\",\n",
    "    'Croatia',\n",
    "    'Cuba',\n",
    "    'Cyprus',\n",
    "    'Czech Republic',\n",
    "    'Denmark',\n",
    "    'Djibouti',\n",
    "    'Dominica',\n",
    "    'Dominican Republic',\n",
    "    'East Timor (Timor Timur)',\n",
    "    'Ecuador',\n",
    "    'Egypt',\n",
    "    'El Salvador',\n",
    "    'Equatorial Guinea',\n",
    "    'Eritrea',\n",
    "    'Estonia',\n",
    "    'Ethiopia',\n",
    "    'Fiji',\n",
    "    'Finland',\n",
    "    'France',\n",
    "    'Gabon',\n",
    "    'Gambia, The',\n",
    "    'Georgia',\n",
    "    'Germany',\n",
    "    'Ghana',\n",
    "    'Greece',\n",
    "    'Grenada',\n",
    "    'Guatemala',\n",
    "    'Guinea',\n",
    "    'Guinea-Bissau',\n",
    "    'Guyana',\n",
    "    'Haiti',\n",
    "    'Honduras',\n",
    "    'Hungary',\n",
    "    'Iceland',\n",
    "    'India',\n",
    "    'Indonesia',\n",
    "    'Iran',\n",
    "    'Iraq',\n",
    "    'Ireland',\n",
    "    'Israel',\n",
    "    'Italy',\n",
    "    'Jamaica',\n",
    "    'Japan',\n",
    "    'Jordan',\n",
    "    'Kazakhstan',\n",
    "    'Kenya',\n",
    "    'Kiribati',\n",
    "    'Korea, North',\n",
    "    'Korea, South',\n",
    "    'Kuwait',\n",
    "    'Kyrgyzstan',\n",
    "    'Laos',\n",
    "    'Latvia',\n",
    "    'Lebanon',\n",
    "    'Lesotho',\n",
    "    'Liberia',\n",
    "    'Libya',\n",
    "    'Liechtenstein',\n",
    "    'Lithuania',\n",
    "    'Luxembourg',\n",
    "    'Macedonia',\n",
    "    'Madagascar',\n",
    "    'Malawi',\n",
    "    'Malaysia',\n",
    "    'Maldives',\n",
    "    'Mali',\n",
    "    'Malta',\n",
    "    'Marshall Islands',\n",
    "    'Mauritania',\n",
    "    'Mauritius',\n",
    "    'Mexico',\n",
    "    'Micronesia',\n",
    "    'Moldova',\n",
    "    'Monaco',\n",
    "    'Mongolia',\n",
    "    'Morocco',\n",
    "    'Mozambique',\n",
    "    'Myanmar',\n",
    "    'Namibia',\n",
    "    'Nauru',\n",
    "    'Nepal',\n",
    "    'Netherlands',\n",
    "    'New Zealand',\n",
    "    'Nicaragua',\n",
    "    'Niger',\n",
    "    'Nigeria',\n",
    "    'Norway',\n",
    "    'Oman',\n",
    "    'Pakistan',\n",
    "    'Palau',\n",
    "    'Panama',\n",
    "    'Papua New Guinea',\n",
    "    'Paraguay',\n",
    "    'Peru',\n",
    "    'Philippines',\n",
    "    'Poland',\n",
    "    'Portugal',\n",
    "    'Qatar',\n",
    "    'Romania',\n",
    "    'Russia',\n",
    "    'Rwanda',\n",
    "    'Saint Kitts and Nevis',\n",
    "    'Saint Lucia',\n",
    "    'Saint Vincent',\n",
    "    'Samoa',\n",
    "    'San Marino',\n",
    "    'Sao Tome and Principe',\n",
    "    'Saudi Arabia',\n",
    "    'Senegal',\n",
    "    'Serbia and Montenegro',\n",
    "    'Seychelles',\n",
    "    'Sierra Leone',\n",
    "    'Singapore',\n",
    "    'Slovakia',\n",
    "    'Slovenia',\n",
    "    'Solomon Islands',\n",
    "    'Somalia',\n",
    "    'South Africa',\n",
    "    'Spain',\n",
    "    'Sri Lanka',\n",
    "    'Sudan',\n",
    "    'Suriname',\n",
    "    'Swaziland',\n",
    "    'Sweden',\n",
    "    'Switzerland',\n",
    "    'Syria',\n",
    "    'Taiwan',\n",
    "    'Tajikistan',\n",
    "    'Tanzania',\n",
    "    'Thailand',\n",
    "    'Togo',\n",
    "    'Tonga',\n",
    "    'Trinidad and Tobago',\n",
    "    'Tunisia',\n",
    "    'Turkey',\n",
    "    'Turkmenistan',\n",
    "    'Tuvalu',\n",
    "    'Uganda',\n",
    "    'Ukraine',\n",
    "    'United Arab Emirates',\n",
    "    'United Kingdom',\n",
    "    'United States',\n",
    "    'Uruguay',\n",
    "    'Uzbekistan',\n",
    "    'Vanuatu',\n",
    "    'Vatican City',\n",
    "    'Venezuela',\n",
    "    'Vietnam',\n",
    "    'Yemen',\n",
    "    'Zambia',\n",
    "    'Zimbabwe'\n",
    "  ]\n",
    "  "
   ]
  }
 ],
 "metadata": {
  "kernelspec": {
   "display_name": "JavaScript (Node.js)",
   "language": "javascript",
   "name": "javascript"
  },
  "language_info": {
   "file_extension": ".js",
   "mimetype": "application/javascript",
   "name": "javascript",
   "version": "12.22.9"
  },
  "orig_nbformat": 4
 },
 "nbformat": 4,
 "nbformat_minor": 2
}
