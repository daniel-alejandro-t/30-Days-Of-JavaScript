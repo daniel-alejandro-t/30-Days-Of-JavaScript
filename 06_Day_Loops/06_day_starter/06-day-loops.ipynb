{
 "cells": [
  {
   "cell_type": "markdown",
   "metadata": {},
   "source": [
    "# 💻 Exercises:Day 6\n",
    "## Exercises: Level 1"
   ]
  },
  {
   "cell_type": "markdown",
   "metadata": {},
   "source": [
    "Data:"
   ]
  },
  {
   "cell_type": "code",
   "execution_count": 1,
   "metadata": {},
   "outputs": [],
   "source": [
    "const countries = [\n",
    "    'Albania',\n",
    "    'Bolivia',\n",
    "    'Canada',\n",
    "    'Denmark',\n",
    "    'Ethiopia',\n",
    "    'Finland',\n",
    "    'Germany',\n",
    "    'Hungary',\n",
    "    'Ireland',\n",
    "    'Japan',\n",
    "    'Kenya'\n",
    "  ]\n",
    "  \n",
    "  const webTechs = [\n",
    "    'HTML',\n",
    "    'CSS',\n",
    "    'JavaScript',\n",
    "    'React',\n",
    "    'Redux',\n",
    "    'Node',\n",
    "    'MongoDB'\n",
    "  ]\n",
    "  \n",
    "  const mernStack = ['MongoDB', 'Express', 'React', 'Node']"
   ]
  },
  {
   "cell_type": "markdown",
   "metadata": {},
   "source": [
    "1. Iterate 0 to 10 using for loop, do the same using while and do while loop"
   ]
  },
  {
   "cell_type": "code",
   "execution_count": 2,
   "metadata": {},
   "outputs": [
    {
     "name": "stdout",
     "output_type": "stream",
     "text": [
      "0\n",
      "1\n",
      "2\n",
      "3\n",
      "4\n",
      "5\n",
      "6\n",
      "7\n",
      "8\n",
      "9\n",
      "10\n"
     ]
    }
   ],
   "source": [
    "for (let index = 0; index <= 10; index++) {\n",
    "    console.log(index);\n",
    "}"
   ]
  },
  {
   "cell_type": "code",
   "execution_count": 1,
   "metadata": {},
   "outputs": [
    {
     "name": "stdout",
     "output_type": "stream",
     "text": [
      "0\n",
      "1\n",
      "2\n",
      "3\n",
      "4\n",
      "5\n",
      "6\n",
      "7\n",
      "8\n",
      "9\n",
      "10\n"
     ]
    },
    {
     "data": {
      "text/plain": [
       "10"
      ]
     },
     "execution_count": 1,
     "metadata": {},
     "output_type": "execute_result"
    }
   ],
   "source": [
    "let num = 0;\n",
    "\n",
    "while (num <= 10) {\n",
    "    console.log(num);\n",
    "    num++;\n",
    "}"
   ]
  },
  {
   "cell_type": "code",
   "execution_count": 3,
   "metadata": {},
   "outputs": [
    {
     "name": "stdout",
     "output_type": "stream",
     "text": [
      "0\n",
      "1\n",
      "2\n",
      "3\n",
      "4\n",
      "5\n",
      "6\n",
      "7\n",
      "8\n",
      "9\n",
      "10\n"
     ]
    },
    {
     "data": {
      "text/plain": [
       "10"
      ]
     },
     "execution_count": 3,
     "metadata": {},
     "output_type": "execute_result"
    }
   ],
   "source": [
    "let num2 = 0;\n",
    "\n",
    "do {\n",
    "    console.log(num2);\n",
    "    num2++;\n",
    "} while (num2 <= 10);"
   ]
  },
  {
   "cell_type": "markdown",
   "metadata": {},
   "source": [
    "2. Iterate 10 to 0 using for loop, do the same using while and do while loop"
   ]
  },
  {
   "cell_type": "code",
   "execution_count": 4,
   "metadata": {},
   "outputs": [
    {
     "name": "stdout",
     "output_type": "stream",
     "text": [
      "10\n",
      "9\n",
      "8\n",
      "7\n",
      "6\n",
      "5\n",
      "4\n",
      "3\n",
      "2\n",
      "1\n",
      "0\n"
     ]
    }
   ],
   "source": [
    "for (let index = 10; index >= 0; index--) {\n",
    "    console.log(index);\n",
    "}"
   ]
  },
  {
   "cell_type": "code",
   "execution_count": 5,
   "metadata": {},
   "outputs": [
    {
     "name": "stdout",
     "output_type": "stream",
     "text": [
      "10\n",
      "9\n",
      "8\n",
      "7\n",
      "6\n",
      "5\n",
      "4\n",
      "3\n",
      "2\n",
      "1\n",
      "0\n"
     ]
    },
    {
     "data": {
      "text/plain": [
       "0"
      ]
     },
     "execution_count": 5,
     "metadata": {},
     "output_type": "execute_result"
    }
   ],
   "source": [
    "let num = 10;\n",
    "\n",
    "while (num >= 0) {\n",
    "    console.log(num);\n",
    "    num--;\n",
    "}"
   ]
  },
  {
   "cell_type": "code",
   "execution_count": 7,
   "metadata": {},
   "outputs": [
    {
     "name": "stdout",
     "output_type": "stream",
     "text": [
      "10\n",
      "9\n",
      "8\n",
      "7\n",
      "6\n",
      "5\n",
      "4\n",
      "3\n",
      "2\n",
      "1\n",
      "0\n"
     ]
    },
    {
     "data": {
      "text/plain": [
       "0"
      ]
     },
     "execution_count": 7,
     "metadata": {},
     "output_type": "execute_result"
    }
   ],
   "source": [
    "let numero2 = 10;\n",
    "\n",
    "do {\n",
    "    console.log(numero2);\n",
    "    numero2--;\n",
    "} while (numero2 >= 0);"
   ]
  },
  {
   "cell_type": "markdown",
   "metadata": {},
   "source": [
    "3. Iterate 0 to n using for loop"
   ]
  },
  {
   "cell_type": "code",
   "execution_count": 9,
   "metadata": {},
   "outputs": [
    {
     "name": "stdout",
     "output_type": "stream",
     "text": [
      "0\n",
      "1\n",
      "2\n",
      "3\n",
      "4\n",
      "5\n",
      "6\n",
      "7\n",
      "8\n",
      "9\n"
     ]
    }
   ],
   "source": [
    "for (let i = 0; i < 10; i++) {\n",
    "    console.log(i)\n",
    "}"
   ]
  },
  {
   "cell_type": "markdown",
   "metadata": {},
   "source": [
    "4. Write a loop that makes the following pattern using console.log():\n",
    "   ```js\n",
    "       #\n",
    "       ##\n",
    "       ###\n",
    "       ####\n",
    "       #####\n",
    "       ######\n",
    "       #######\n",
    "   ```"
   ]
  },
  {
   "cell_type": "code",
   "execution_count": 2,
   "metadata": {},
   "outputs": [
    {
     "name": "stdout",
     "output_type": "stream",
     "text": [
      "#\n",
      "##\n",
      "###\n",
      "####\n",
      "#####\n",
      "######\n",
      "#######\n"
     ]
    }
   ],
   "source": [
    "for (let index = 0; index < 7; index++){\n",
    "    sharp = '#'\n",
    "\n",
    "    for (let y = 0; y < index; y++){\n",
    "        sharp += '#'\n",
    "    }\n",
    "    console.log(sharp)\n",
    "}"
   ]
  },
  {
   "cell_type": "markdown",
   "metadata": {},
   "source": [
    "5. Use loop to print the following pattern:\n",
    "```\n",
    "0 x 0 = 0\n",
    "1 x 1 = 1\n",
    "2 x 2 = 4\n",
    "3 x 3 = 9\n",
    "4 x 4 = 16\n",
    "5 x 5 = 25\n",
    "6 x 6 = 36\n",
    "7 x 7 = 49\n",
    "8 x 8 = 64\n",
    "9 x 9 = 81\n",
    "10 x 10 = 100\n",
    "```"
   ]
  },
  {
   "cell_type": "code",
   "execution_count": 3,
   "metadata": {},
   "outputs": [
    {
     "name": "stdout",
     "output_type": "stream",
     "text": [
      "0 x 0 = 0\n",
      "1 x 1 = 1\n",
      "2 x 2 = 4\n",
      "3 x 3 = 9\n",
      "4 x 4 = 16\n",
      "5 x 5 = 25\n",
      "6 x 6 = 36\n",
      "7 x 7 = 49\n",
      "8 x 8 = 64\n",
      "9 x 9 = 81\n",
      "10 x 10 = 100\n"
     ]
    }
   ],
   "source": [
    "for (let x = 0; x < 11; x++) {\n",
    "    console.log(`${x} x ${x} = ${x*x}`)\n",
    "}"
   ]
  },
  {
   "cell_type": "markdown",
   "metadata": {},
   "source": [
    "6. Using loop print the following pattern\n",
    "\n",
    "```\n",
    " i    i^2   i^3\n",
    " 0    0     0\n",
    " 1    1     1\n",
    " 2    4     8\n",
    " 3    9     27\n",
    " 4    16    64\n",
    " 5    25    125\n",
    " 6    36    216\n",
    " 7    49    343\n",
    " 8    64    512\n",
    " 9    81    729\n",
    " 10   100   1000\n",
    " ```"
   ]
  },
  {
   "cell_type": "code",
   "execution_count": 4,
   "metadata": {},
   "outputs": [
    {
     "name": "stdout",
     "output_type": "stream",
     "text": [
      "i \t i^2 \t i^3\n",
      "0 \t 0 \t 0\n",
      "1 \t 1 \t 1\n",
      "2 \t 4 \t 8\n",
      "3 \t 9 \t 27\n",
      "4 \t 16 \t 64\n",
      "5 \t 25 \t 125\n",
      "6 \t 36 \t 216\n",
      "7 \t 49 \t 343\n",
      "8 \t 64 \t 512\n",
      "9 \t 81 \t 729\n",
      "10 \t 100 \t 1000\n"
     ]
    }
   ],
   "source": [
    "console.log('i \\t i^2 \\t i^3')\n",
    "\n",
    "for (let x = 0; x < 11; x++) {\n",
    "    console.log(`${x} \\t ${x**2} \\t ${x**3}`)\n",
    "}"
   ]
  },
  {
   "cell_type": "markdown",
   "metadata": {},
   "source": [
    "7. Use for loop to iterate from 0 to 100 and print only even numbers"
   ]
  },
  {
   "cell_type": "code",
   "execution_count": 5,
   "metadata": {},
   "outputs": [
    {
     "name": "stdout",
     "output_type": "stream",
     "text": [
      "0\n",
      "2\n",
      "4\n",
      "6\n",
      "8\n",
      "10\n",
      "12\n",
      "14\n",
      "16\n",
      "18\n",
      "20\n",
      "22\n",
      "24\n",
      "26\n",
      "28\n",
      "30\n",
      "32\n",
      "34\n",
      "36\n",
      "38\n",
      "40\n",
      "42\n",
      "44\n",
      "46\n",
      "48\n",
      "50\n",
      "52\n",
      "54\n",
      "56\n",
      "58\n",
      "60\n",
      "62\n",
      "64\n",
      "66\n",
      "68\n",
      "70\n",
      "72\n",
      "74\n",
      "76\n",
      "78\n",
      "80\n",
      "82\n",
      "84\n",
      "86\n",
      "88\n",
      "90\n",
      "92\n",
      "94\n",
      "96\n",
      "98\n",
      "100\n"
     ]
    }
   ],
   "source": [
    "for (let i = 0; i < 101; i+=2) {\n",
    "    console.log(i)\n",
    "}"
   ]
  },
  {
   "cell_type": "markdown",
   "metadata": {},
   "source": [
    "8. Use for loop to iterate from 0 to 100 and print only odd numbers"
   ]
  },
  {
   "cell_type": "code",
   "execution_count": 6,
   "metadata": {},
   "outputs": [
    {
     "name": "stdout",
     "output_type": "stream",
     "text": [
      "1\n",
      "3\n",
      "5\n",
      "7\n",
      "9\n",
      "11\n",
      "13\n",
      "15\n",
      "17\n",
      "19\n",
      "21\n",
      "23\n",
      "25\n",
      "27\n",
      "29\n",
      "31\n",
      "33\n",
      "35\n",
      "37\n",
      "39\n",
      "41\n",
      "43\n",
      "45\n",
      "47\n",
      "49\n",
      "51\n",
      "53\n",
      "55\n",
      "57\n",
      "59\n",
      "61\n",
      "63\n",
      "65\n",
      "67\n",
      "69\n",
      "71\n",
      "73\n",
      "75\n",
      "77\n",
      "79\n",
      "81\n",
      "83\n",
      "85\n",
      "87\n",
      "89\n",
      "91\n",
      "93\n",
      "95\n",
      "97\n",
      "99\n"
     ]
    }
   ],
   "source": [
    "for (let i = 1; i < 101; i+=2) {\n",
    "    console.log(i)\n",
    "}"
   ]
  },
  {
   "cell_type": "markdown",
   "metadata": {},
   "source": [
    "9. Use for loop to iterate from 0 to 100 and print only prime numbers"
   ]
  },
  {
   "cell_type": "code",
   "execution_count": null,
   "metadata": {},
   "outputs": [],
   "source": []
  },
  {
   "cell_type": "markdown",
   "metadata": {},
   "source": [
    "10. Use for loop to iterate from 0 to 100 and print the sum of all numbers.\n",
    "\n",
    "```\n",
    "The sum of all numbers from 0 to 100 is 5050.\n",
    "```"
   ]
  },
  {
   "cell_type": "code",
   "execution_count": 7,
   "metadata": {},
   "outputs": [
    {
     "name": "stdout",
     "output_type": "stream",
     "text": [
      "The sum of all numbers from 0 to 100 is 5050\n"
     ]
    }
   ],
   "source": [
    "let sum = 0\n",
    "\n",
    "for (let y = 0; y <= 100; y++) {\n",
    "    sum += y\n",
    "}\n",
    "\n",
    "console.log('The sum of all numbers from 0 to 100 is ' + sum)"
   ]
  },
  {
   "cell_type": "markdown",
   "metadata": {},
   "source": [
    "11. Use for loop to iterate from 0 to 100 and print the sum of all evens and the sum of all odds."
   ]
  },
  {
   "cell_type": "code",
   "execution_count": 8,
   "metadata": {},
   "outputs": [
    {
     "name": "stdout",
     "output_type": "stream",
     "text": [
      "The sum of all evens from 0 to 100 is 2550. And the sum of all odds from 0 to 100 is 2500.\n"
     ]
    }
   ],
   "source": [
    "let sumEvens = 0\n",
    "let sumOdds  = 0\n",
    "\n",
    "for (let i = 0; i <= 100; i++) {\n",
    "    (i % 2 == 0)? sumEvens += i: sumOdds += i;\n",
    "}\n",
    "\n",
    "console.log('The sum of all evens from 0 to 100 is ' + sumEvens + '. And the sum of all odds from 0 to 100 is ' + sumOdds + '.')"
   ]
  },
  {
   "cell_type": "markdown",
   "metadata": {},
   "source": [
    "12. Use for loop to iterate from 0 to 100 and print the sum of all evens and the sum of all odds. Print sum of evens and sum of odds as array"
   ]
  },
  {
   "cell_type": "code",
   "execution_count": 10,
   "metadata": {},
   "outputs": [
    {
     "name": "stdout",
     "output_type": "stream",
     "text": [
      "[ 7650, 7500 ]\n"
     ]
    }
   ],
   "source": [
    "for (let i = 0; i <= 100; i++) {\n",
    "    (i % 2 == 0)? sumEvens += i: sumOdds += i;\n",
    "}\n",
    "\n",
    "arr = [sumEvens, sumOdds]\n",
    "\n",
    "console.log(arr)"
   ]
  },
  {
   "cell_type": "markdown",
   "metadata": {},
   "source": [
    "13. Develop a small script which generate array of 5 random numbers"
   ]
  },
  {
   "cell_type": "code",
   "execution_count": 11,
   "metadata": {},
   "outputs": [
    {
     "name": "stdout",
     "output_type": "stream",
     "text": [
      "[\n",
      "  0.4554451079949495,\n",
      "  0.731138493585987,\n",
      "  0.6509026778258098,\n",
      "  0.9926141368079127,\n",
      "  0.36695313700138477\n",
      "]\n"
     ]
    }
   ],
   "source": [
    "arr = []\n",
    "\n",
    "for (let i = 0; i < 5; i++) {\n",
    "    arr.push(Math.random())\n",
    "}\n",
    "\n",
    "console.log(arr)"
   ]
  },
  {
   "cell_type": "markdown",
   "metadata": {},
   "source": [
    "14. Develop a small script which generate array of 5 random numbers and the numbers must be unique"
   ]
  },
  {
   "cell_type": "code",
   "execution_count": 5,
   "metadata": {},
   "outputs": [
    {
     "name": "stdout",
     "output_type": "stream",
     "text": [
      "[\n",
      "  5.992662561600914,\n",
      "  6.226248659137403,\n",
      "  8.740167439434012,\n",
      "  3.6867977619513703,\n",
      "  2.446829972278126\n",
      "]\n"
     ]
    }
   ],
   "source": [
    "arrRandomNumbers = []\n",
    "\n",
    "for (let i = 0; i < 5; i++) {\n",
    "    arrRandomNumbers.push(Math.random() * 10)\n",
    "}\n",
    "\n",
    "console.log(arrRandomNumbers)"
   ]
  },
  {
   "cell_type": "markdown",
   "metadata": {},
   "source": [
    "15. Develop a small script which generate a six characters random id:"
   ]
  },
  {
   "cell_type": "code",
   "execution_count": 1,
   "metadata": {},
   "outputs": [
    {
     "name": "stdout",
     "output_type": "stream",
     "text": [
      "aqubfz\n"
     ]
    }
   ],
   "source": [
    "const alphabet = \"abcdefghijklmnopqrstuvwxyz\"\n",
    "generate = ''\n",
    "\n",
    "for (let i = 0; i < 6; i++) {\n",
    "    (parseInt(Math.random())  % 2 == 0)\n",
    "    ? generate += alphabet[Math.floor(Math.random() * alphabet.length)]\n",
    "    : generate += parseInt(Math.random());\n",
    "    \n",
    "}\n",
    "\n",
    "console.log(generate)"
   ]
  },
  {
   "cell_type": "markdown",
   "metadata": {},
   "source": [
    "## Exercises: Level 2"
   ]
  },
  {
   "cell_type": "markdown",
   "metadata": {},
   "source": [
    "1. Develop a small script which generate any number of characters random id:"
   ]
  },
  {
   "cell_type": "code",
   "execution_count": 1,
   "metadata": {},
   "outputs": [
    {
     "name": "stdout",
     "output_type": "stream",
     "text": [
      "hoztvpw\n"
     ]
    }
   ],
   "source": [
    "numDigits = 7\n",
    "\n",
    "const alphabet = \"abcdefghijklmnopqrstuvwxyz\"\n",
    "generate = ''\n",
    "\n",
    "for (let i = 0; i < numDigits; i++) {\n",
    "    (parseInt(Math.random())  % 2 == 0)\n",
    "    ? generate += alphabet[Math.floor(Math.random() * alphabet.length)]\n",
    "    : generate += parseInt(Math.random());\n",
    "    \n",
    "}\n",
    "\n",
    "console.log(generate)"
   ]
  },
  {
   "cell_type": "markdown",
   "metadata": {},
   "source": [
    "2. Write a script which generates a random hexadecimal number."
   ]
  },
  {
   "cell_type": "code",
   "execution_count": 3,
   "metadata": {},
   "outputs": [
    {
     "name": "stdout",
     "output_type": "stream",
     "text": [
      "#EA3741\n"
     ]
    }
   ],
   "source": [
    "const alphabetHex = \"0123456789ABCDEF\"\n",
    "hexRandom = '#'\n",
    "\n",
    "for (let i = 0; i < 6; i++) {\n",
    "    (parseInt(Math.random())  % 2 == 0)\n",
    "    ? hexRandom += alphabetHex[Math.floor(Math.random() * alphabetHex.length)]\n",
    "    : hexRandom += parseInt(Math.random());\n",
    "}\n",
    "\n",
    "console.log(hexRandom)"
   ]
  },
  {
   "cell_type": "markdown",
   "metadata": {},
   "source": [
    "3. Write a script which generates a random rgb color number."
   ]
  },
  {
   "cell_type": "code",
   "execution_count": 1,
   "metadata": {},
   "outputs": [
    {
     "name": "stdout",
     "output_type": "stream",
     "text": [
      "rgb(39,30,50)\n"
     ]
    }
   ],
   "source": [
    "arrRgb = []\n",
    "\n",
    "for (let i = 0; i < 3; i++) {\n",
    "    arrRgb.push(parseInt(Math.random() * 100))\n",
    "}\n",
    "\n",
    "console.log('rgb(' + arrRgb + ')')"
   ]
  },
  {
   "cell_type": "markdown",
   "metadata": {},
   "source": [
    "4. Using the above countries array, create the following new array."
   ]
  },
  {
   "cell_type": "code",
   "execution_count": 3,
   "metadata": {},
   "outputs": [
    {
     "data": {
      "text/plain": [
       "[\n",
       "  'ALBANIA',  'BOLIVIA',\n",
       "  'CANADA',   'DENMARK',\n",
       "  'ETHIOPIA', 'FINLAND',\n",
       "  'GERMANY',  'HUNGARY',\n",
       "  'IRELAND',  'JAPAN',\n",
       "  'KENYA'\n",
       "]"
      ]
     },
     "execution_count": 3,
     "metadata": {},
     "output_type": "execute_result"
    }
   ],
   "source": [
    "upperCountries = []\n",
    "\n",
    "countries.forEach(country => {\n",
    "    upperCountries.push(country.toUpperCase())\n",
    "});\n",
    "\n",
    "upperCountries"
   ]
  },
  {
   "cell_type": "markdown",
   "metadata": {},
   "source": [
    "5. Using the above countries array, create an array for countries length'."
   ]
  },
  {
   "cell_type": "code",
   "execution_count": 5,
   "metadata": {},
   "outputs": [
    {
     "data": {
      "text/plain": [
       "[\n",
       "  7, 7, 6, 7, 8,\n",
       "  7, 7, 7, 7, 5,\n",
       "  5\n",
       "]"
      ]
     },
     "execution_count": 5,
     "metadata": {},
     "output_type": "execute_result"
    }
   ],
   "source": [
    "lengthCountries = []\n",
    "\n",
    "upperCountries.forEach(country => {\n",
    "    lengthCountries.push(country.length)\n",
    "});\n",
    "\n",
    "lengthCountries"
   ]
  },
  {
   "cell_type": "markdown",
   "metadata": {},
   "source": [
    "6. Use the countries array to create the following array of arrays:"
   ]
  },
  {
   "cell_type": "code",
   "execution_count": 2,
   "metadata": {},
   "outputs": [
    {
     "data": {
      "text/plain": [
       "[\n",
       "  [ 'Albania', 'ALB', 7 ],\n",
       "  [ 'Bolivia', 'BOL', 7 ],\n",
       "  [ 'Canada', 'CAN', 6 ],\n",
       "  [ 'Denmark', 'DEN', 7 ],\n",
       "  [ 'Ethiopia', 'ETH', 8 ],\n",
       "  [ 'Finland', 'FIN', 7 ],\n",
       "  [ 'Germany', 'GER', 7 ],\n",
       "  [ 'Hungary', 'HUN', 7 ],\n",
       "  [ 'Ireland', 'IRE', 7 ],\n",
       "  [ 'Japan', 'JAP', 5 ],\n",
       "  [ 'Kenya', 'KEN', 5 ]\n",
       "]"
      ]
     },
     "execution_count": 2,
     "metadata": {},
     "output_type": "execute_result"
    }
   ],
   "source": [
    "arrCountries = []\n",
    "\n",
    "countries.forEach(country => {\n",
    "    arrCountry = [country, country.substring(0, 3).toUpperCase(), country.length]\n",
    "    arrCountries.push(arrCountry)\n",
    "});\n",
    "\n",
    "arrCountries"
   ]
  },
  {
   "cell_type": "markdown",
   "metadata": {},
   "source": [
    "7. In above countries array, check if there is a country or countries containing the word 'land'. If there are countries containing 'land', print it as array. If there is no country containing the word 'land', print 'All these countries are without land'.\n",
    "```\n",
    "['Finland','Ireland', 'Iceland']\n",
    "```"
   ]
  },
  {
   "cell_type": "code",
   "execution_count": 14,
   "metadata": {},
   "outputs": [
    {
     "name": "stdout",
     "output_type": "stream",
     "text": [
      "No contain land\n",
      "No contain land\n",
      "No contain land\n",
      "No contain land\n",
      "No contain land\n",
      "No contain land\n",
      "No contain land\n",
      "No contain land\n",
      "No contain land\n",
      "[ 'Finland', 'Ireland' ]\n"
     ]
    }
   ],
   "source": [
    "landCountries = []\n",
    "countlandCountries = 0\n",
    "\n",
    "countries.forEach(country => {\n",
    "    (country.indexOf('land') == -1)\n",
    "    ? console.log('No contain land')\n",
    "    : landCountries.push(country); countlandCountries++;\n",
    "});\n",
    "\n",
    "console.log(landCountries)"
   ]
  },
  {
   "cell_type": "markdown",
   "metadata": {},
   "source": [
    "8. In above countries array, check if there is a country or countries end with a substring 'ia'. If there are countries end with, print it as array. If there is no country containing the word 'ai', print 'These are countries ends without ia'.\n",
    "\n",
    "```\n",
    "['Albania', 'Bolivia','Ethiopia']\n",
    "```"
   ]
  },
  {
   "cell_type": "code",
   "execution_count": 15,
   "metadata": {},
   "outputs": [
    {
     "name": "stdout",
     "output_type": "stream",
     "text": [
      "Canada no contains ia.\n",
      "Denmark no contains ia.\n",
      "Finland no contains ia.\n",
      "Germany no contains ia.\n",
      "Hungary no contains ia.\n",
      "Ireland no contains ia.\n",
      "Japan no contains ia.\n",
      "Kenya no contains ia.\n"
     ]
    },
    {
     "data": {
      "text/plain": [
       "[ 'Albania', 'Bolivia', 'Ethiopia' ]"
      ]
     },
     "execution_count": 15,
     "metadata": {},
     "output_type": "execute_result"
    }
   ],
   "source": [
    "iaCountries = []\n",
    "countIaCountries = 0\n",
    "\n",
    "countries.forEach(country => {\n",
    "    (country.includes('ia'))\n",
    "    ? iaCountries.push(country)\n",
    "    : console.log(country + ' no contains ia.')\n",
    "});\n",
    "\n",
    "iaCountries"
   ]
  },
  {
   "cell_type": "markdown",
   "metadata": {},
   "source": [
    "9. Using the above countries array, find the country containing the biggest number of characters."
   ]
  },
  {
   "cell_type": "code",
   "execution_count": 20,
   "metadata": {},
   "outputs": [
    {
     "data": {
      "text/plain": [
       "'Ethiopia'"
      ]
     },
     "execution_count": 20,
     "metadata": {},
     "output_type": "execute_result"
    }
   ],
   "source": [
    "positionLargeCountry = 0\n",
    "\n",
    "for (let x = 0; x < countries.length; x++) {\n",
    "    if (countries[x].length > countries[positionLargeCountry].length) {\n",
    "        positionLargeCountry = x;\n",
    "    }\n",
    "}\n",
    "\n",
    "countries[positionLargeCountry]"
   ]
  },
  {
   "cell_type": "markdown",
   "metadata": {},
   "source": [
    "10. Using the above countries array, find the country containing only 5 characters."
   ]
  },
  {
   "cell_type": "code",
   "execution_count": 21,
   "metadata": {},
   "outputs": [
    {
     "data": {
      "text/plain": [
       "[ 'Japan', 'Kenya' ]"
      ]
     },
     "execution_count": 21,
     "metadata": {},
     "output_type": "execute_result"
    }
   ],
   "source": [
    "arr5letters = []\n",
    "\n",
    "for (let x = 0; x < countries.length; x++) {\n",
    "    if (countries[x].length == 5) {\n",
    "        arr5letters.push(countries[x])\n",
    "    }\n",
    "}\n",
    "\n",
    "arr5letters"
   ]
  },
  {
   "cell_type": "markdown",
   "metadata": {},
   "source": [
    "11. Find the longest word in the webTechs array"
   ]
  },
  {
   "cell_type": "code",
   "execution_count": 24,
   "metadata": {},
   "outputs": [
    {
     "data": {
      "text/plain": [
       "'JavaScript'"
      ]
     },
     "execution_count": 24,
     "metadata": {},
     "output_type": "execute_result"
    }
   ],
   "source": [
    "positionTechLongTech = 0\n",
    "\n",
    "for (let x = 0; x < webTechs.length; x++) {\n",
    "    if (webTechs[x].length > webTechs[positionTechLongTech].length) {\n",
    "        positionTechLongTech = x;\n",
    "    }\n",
    "}\n",
    "\n",
    "webTechs[positionTechLongTech]"
   ]
  },
  {
   "cell_type": "markdown",
   "metadata": {},
   "source": [
    "12. Use the webTechs array to create the following array of arrays:\n",
    "\n",
    "```\n",
    "[[\"HTML\", 4], [\"CSS\", 3],[\"JavaScript\", 10],[\"React\", 5],[\"Redux\", 5],[\"Node\", 4],[\"MongoDB\", 7]]\n",
    "```"
   ]
  },
  {
   "cell_type": "code",
   "execution_count": 2,
   "metadata": {},
   "outputs": [
    {
     "data": {
      "text/plain": [
       "[\n",
       "  'HTML',       4,\n",
       "  'CSS',        3,\n",
       "  'JavaScript', 10,\n",
       "  'React',      5,\n",
       "  'Redux',      5,\n",
       "  'Node',       4,\n",
       "  'MongoDB',    7\n",
       "]"
      ]
     },
     "execution_count": 2,
     "metadata": {},
     "output_type": "execute_result"
    }
   ],
   "source": [
    "arrWebTechs = []\n",
    "\n",
    "webTechs.forEach(tech => {\n",
    "    arrWebTechs.push(tech, tech.length)\n",
    "});\n",
    "\n",
    "arrWebTechs"
   ]
  },
  {
   "cell_type": "markdown",
   "metadata": {},
   "source": [
    "13. An application created using MongoDB, Express, React and Node is called a MERN stack app. Create the acronym MERN by using the array mernStack"
   ]
  },
  {
   "cell_type": "code",
   "execution_count": 4,
   "metadata": {},
   "outputs": [
    {
     "name": "stdout",
     "output_type": "stream",
     "text": [
      "MERN\n"
     ]
    }
   ],
   "source": [
    "techs = ['MongoDB', 'Express', 'React', 'Node']\n",
    "nameApp = ''\n",
    "\n",
    "techs.forEach(tech => {\n",
    "    nameApp += tech[0]\n",
    "});\n",
    "\n",
    "console.log(nameApp.toUpperCase())"
   ]
  },
  {
   "cell_type": "markdown",
   "metadata": {},
   "source": [
    "14. Iterate through the array, [\"HTML\", \"CSS\", \"JS\", \"React\", \"Redux\", \"Node\", \"Express\", \"MongoDB\"] using a for loop or for of loop and print out the items."
   ]
  },
  {
   "cell_type": "code",
   "execution_count": 27,
   "metadata": {},
   "outputs": [],
   "source": [
    "let techs2 = [\"HTML\", \"CSS\", \"JS\", \"React\", \"Redux\", \"Node\", \"Express\", \"MongoDB\"]"
   ]
  },
  {
   "cell_type": "code",
   "execution_count": 22,
   "metadata": {},
   "outputs": [
    {
     "name": "stdout",
     "output_type": "stream",
     "text": [
      "HTML\n",
      "CSS\n",
      "JS\n",
      "React\n",
      "Redux\n",
      "Node\n",
      "Express\n",
      "MongoDB\n"
     ]
    }
   ],
   "source": [
    "techs.forEach(tech => {\n",
    "    console.log(tech)\n",
    "});"
   ]
  },
  {
   "cell_type": "code",
   "execution_count": 35,
   "metadata": {},
   "outputs": [
    {
     "name": "stdout",
     "output_type": "stream",
     "text": [
      "HTML\n",
      "CSS\n",
      "JS\n",
      "React\n",
      "Redux\n",
      "Node\n",
      "Express\n",
      "MongoDB\n"
     ]
    }
   ],
   "source": [
    "for (let i = 0; i < techs2.length; i++) {\n",
    "    console.log( techs2[i] );\n",
    "}"
   ]
  },
  {
   "cell_type": "markdown",
   "metadata": {},
   "source": [
    "15. This is a fruit array , ['banana', 'orange', 'mango', 'lemon'] reverse the order using loop without using a reverse method."
   ]
  },
  {
   "cell_type": "code",
   "execution_count": 36,
   "metadata": {},
   "outputs": [
    {
     "name": "stdout",
     "output_type": "stream",
     "text": [
      "[ 'lemon', 'mango', 'orange', 'banana' ]\n"
     ]
    }
   ],
   "source": [
    "fruits = ['banana', 'orange', 'mango', 'lemon']\n",
    "fruitsInverted = []\n",
    "\n",
    "for (let i = fruits.length - 1; i >= 0; i--) {\n",
    "    fruitsInverted.push(fruits[i])\n",
    "}\n",
    "\n",
    "console.log(fruitsInverted)"
   ]
  },
  {
   "cell_type": "markdown",
   "metadata": {},
   "source": [
    "16. Print all the elements of array as shown below.\n",
    "\n",
    "```\n",
    "  HTML\n",
    "  CSS\n",
    "  JS\n",
    "  REACT\n",
    "  NODE\n",
    "  EXPRESS\n",
    "  MONGODB\n",
    "  ```"
   ]
  },
  {
   "cell_type": "code",
   "execution_count": 38,
   "metadata": {},
   "outputs": [],
   "source": [
    "const fullStack = [\n",
    "    ['HTML', 'CSS', 'JS', 'React'],\n",
    "    ['Node', 'Express', 'MongoDB']\n",
    "  ]"
   ]
  },
  {
   "cell_type": "code",
   "execution_count": 43,
   "metadata": {},
   "outputs": [
    {
     "name": "stdout",
     "output_type": "stream",
     "text": [
      "HTML\n",
      "CSS\n",
      "JS\n",
      "REACT\n",
      "NODE\n",
      "EXPRESS\n",
      "MONGODB\n"
     ]
    }
   ],
   "source": [
    "for (let x = 0; x < fullStack.length; x++) {\n",
    "    for (let y = 0; y < fullStack[x].length; y++) {\n",
    "        console.log(fullStack[x][y].toUpperCase())\n",
    "    }\n",
    "}"
   ]
  },
  {
   "cell_type": "markdown",
   "metadata": {},
   "source": [
    "## Exercises: Level 3"
   ]
  },
  {
   "cell_type": "markdown",
   "metadata": {},
   "source": [
    "1. Copy countries array(Avoid mutation)"
   ]
  },
  {
   "cell_type": "code",
   "execution_count": 44,
   "metadata": {},
   "outputs": [
    {
     "data": {
      "text/plain": [
       "[\n",
       "  'Albania',  'Bolivia',\n",
       "  'Canada',   'Denmark',\n",
       "  'Ethiopia', 'Finland',\n",
       "  'Germany',  'Hungary',\n",
       "  'Ireland',  'Japan',\n",
       "  'Kenya'\n",
       "]"
      ]
     },
     "execution_count": 44,
     "metadata": {},
     "output_type": "execute_result"
    }
   ],
   "source": [
    "arrCountries = countries"
   ]
  },
  {
   "cell_type": "markdown",
   "metadata": {},
   "source": [
    "2. Arrays are mutable. Create a copy of array which does not modify the original. Sort the copied array and store in a variable sortedCountries"
   ]
  },
  {
   "cell_type": "code",
   "execution_count": 2,
   "metadata": {},
   "outputs": [
    {
     "data": {
      "text/plain": [
       "[\n",
       "  'Afghanistan',\n",
       "  'Albania',\n",
       "  'Algeria',\n",
       "  'Andorra',\n",
       "  'Angola',\n",
       "  'Antigua and Barbuda',\n",
       "  'Argentina',\n",
       "  'Armenia',\n",
       "  'Australia',\n",
       "  'Austria',\n",
       "  'Azerbaijan',\n",
       "  'Bahamas',\n",
       "  'Bahrain',\n",
       "  'Bangladesh',\n",
       "  'Barbados',\n",
       "  'Belarus',\n",
       "  'Belgium',\n",
       "  'Belize',\n",
       "  'Benin',\n",
       "  'Bhutan',\n",
       "  'Bolivia',\n",
       "  'Bosnia and Herzegovina',\n",
       "  'Botswana',\n",
       "  'Brazil',\n",
       "  'Brunei',\n",
       "  'Bulgaria',\n",
       "  'Burkina Faso',\n",
       "  'Burundi',\n",
       "  'Cambodia',\n",
       "  'Cameroon',\n",
       "  'Canada',\n",
       "  'Cape Verde',\n",
       "  'Central African Republic',\n",
       "  'Chad',\n",
       "  'Chile',\n",
       "  'China',\n",
       "  'Colombi',\n",
       "  'Comoros',\n",
       "  'Congo',\n",
       "  'Congo (Brazzaville)',\n",
       "  'Costa Rica',\n",
       "  \"Cote d'Ivoire\",\n",
       "  'Croatia',\n",
       "  'Cuba',\n",
       "  'Cyprus',\n",
       "  'Czech Republic',\n",
       "  'Denmark',\n",
       "  'Djibouti',\n",
       "  'Dominica',\n",
       "  'Dominican Republic',\n",
       "  'East Timor (Timor Timur)',\n",
       "  'Ecuador',\n",
       "  'Egypt',\n",
       "  'El Salvador',\n",
       "  'Equatorial Guinea',\n",
       "  'Eritrea',\n",
       "  'Estonia',\n",
       "  'Ethiopia',\n",
       "  'Fiji',\n",
       "  'Finland',\n",
       "  'France',\n",
       "  'Gabon',\n",
       "  'Gambia, The',\n",
       "  'Georgia',\n",
       "  'Germany',\n",
       "  'Ghana',\n",
       "  'Greece',\n",
       "  'Grenada',\n",
       "  'Guatemala',\n",
       "  'Guinea',\n",
       "  'Guinea-Bissau',\n",
       "  'Guyana',\n",
       "  'Haiti',\n",
       "  'Honduras',\n",
       "  'Hungary',\n",
       "  'Iceland',\n",
       "  'India',\n",
       "  'Indonesia',\n",
       "  'Iran',\n",
       "  'Iraq',\n",
       "  'Ireland',\n",
       "  'Israel',\n",
       "  'Italy',\n",
       "  'Jamaica',\n",
       "  'Japan',\n",
       "  'Jordan',\n",
       "  'Kazakhstan',\n",
       "  'Kenya',\n",
       "  'Kiribati',\n",
       "  'Korea, North',\n",
       "  'Korea, South',\n",
       "  'Kuwait',\n",
       "  'Kyrgyzstan',\n",
       "  'Laos',\n",
       "  'Latvia',\n",
       "  'Lebanon',\n",
       "  'Lesotho',\n",
       "  'Liberia',\n",
       "  'Libya',\n",
       "  'Liechtenstein',\n",
       "  ... 93 more items\n",
       "]"
      ]
     },
     "execution_count": 2,
     "metadata": {},
     "output_type": "execute_result"
    }
   ],
   "source": [
    "sortedCountries = countries.sort()"
   ]
  },
  {
   "cell_type": "markdown",
   "metadata": {},
   "source": [
    "3. Sort the webTechs array and mernStack array"
   ]
  },
  {
   "cell_type": "code",
   "execution_count": 3,
   "metadata": {},
   "outputs": [
    {
     "data": {
      "text/plain": [
       "[ 'CSS', 'HTML', 'JavaScript', 'MongoDB', 'Node', 'React', 'Redux' ]"
      ]
     },
     "execution_count": 3,
     "metadata": {},
     "output_type": "execute_result"
    }
   ],
   "source": [
    "webTechs.sort()"
   ]
  },
  {
   "cell_type": "code",
   "execution_count": 4,
   "metadata": {},
   "outputs": [
    {
     "data": {
      "text/plain": [
       "[ 'Express', 'MongoDB', 'Node', 'React' ]"
      ]
     },
     "execution_count": 4,
     "metadata": {},
     "output_type": "execute_result"
    }
   ],
   "source": [
    "mernStack.sort()"
   ]
  },
  {
   "cell_type": "markdown",
   "metadata": {},
   "source": [
    "4. Extract all the countries contain the word 'land' from the countries array and print it as array"
   ]
  },
  {
   "cell_type": "code",
   "execution_count": 6,
   "metadata": {},
   "outputs": [
    {
     "data": {
      "text/plain": [
       "[\n",
       "  'Finland',\n",
       "  'Iceland',\n",
       "  'Ireland',\n",
       "  'Marshall Islands',\n",
       "  'Netherlands',\n",
       "  'New Zealand',\n",
       "  'Poland',\n",
       "  'Solomon Islands',\n",
       "  'Swaziland',\n",
       "  'Switzerland',\n",
       "  'Thailand'\n",
       "]"
      ]
     },
     "execution_count": 6,
     "metadata": {},
     "output_type": "execute_result"
    }
   ],
   "source": [
    "wordsLand = []\n",
    "\n",
    "countriesBig.forEach(country => {\n",
    "    if (country.indexOf('land') != -1) {\n",
    "        wordsLand.push(country)\n",
    "    }\n",
    "});\n",
    "\n",
    "wordsLand"
   ]
  },
  {
   "cell_type": "markdown",
   "metadata": {},
   "source": [
    "5. Find the country containing the hightest number of characters in the countries array"
   ]
  },
  {
   "cell_type": "code",
   "execution_count": 7,
   "metadata": {},
   "outputs": [
    {
     "data": {
      "text/plain": [
       "'Central African Republic'"
      ]
     },
     "execution_count": 7,
     "metadata": {},
     "output_type": "execute_result"
    }
   ],
   "source": [
    "let largeCountryPosition = 0\n",
    "\n",
    "for (let x = 0; x < countriesBig.length; x++) {\n",
    "    if ( countriesBig[x].length > countriesBig[largeCountryPosition].length ) {\n",
    "        largeCountryPosition = x;\n",
    "    }\n",
    "}\n",
    "\n",
    "countriesBig[largeCountryPosition]"
   ]
  },
  {
   "cell_type": "markdown",
   "metadata": {},
   "source": [
    "6. Extract all the countries contain the word 'land' from the countries array and print it as array"
   ]
  },
  {
   "cell_type": "code",
   "execution_count": 9,
   "metadata": {},
   "outputs": [
    {
     "name": "stdout",
     "output_type": "stream",
     "text": [
      "Finland has land\n",
      "Iceland has land\n",
      "Ireland has land\n",
      "Marshall Islands has land\n",
      "Netherlands has land\n",
      "New Zealand has land\n",
      "Poland has land\n",
      "Solomon Islands has land\n",
      "Swaziland has land\n",
      "Switzerland has land\n",
      "Thailand has land\n"
     ]
    },
    {
     "data": {
      "text/plain": [
       "[\n",
       "  'Afghanistan',\n",
       "  'Albania',\n",
       "  'Algeria',\n",
       "  'Andorra',\n",
       "  'Angola',\n",
       "  'Antigua and Barbuda',\n",
       "  'Argentina',\n",
       "  'Armenia',\n",
       "  'Australia',\n",
       "  'Austria',\n",
       "  'Azerbaijan',\n",
       "  'Bahamas',\n",
       "  'Bahrain',\n",
       "  'Bangladesh',\n",
       "  'Barbados',\n",
       "  'Belarus',\n",
       "  'Belgium',\n",
       "  'Belize',\n",
       "  'Benin',\n",
       "  'Bhutan',\n",
       "  'Bolivia',\n",
       "  'Bosnia and Herzegovina',\n",
       "  'Botswana',\n",
       "  'Brazil',\n",
       "  'Brunei',\n",
       "  'Bulgaria',\n",
       "  'Burkina Faso',\n",
       "  'Burundi',\n",
       "  'Cambodia',\n",
       "  'Cameroon',\n",
       "  'Canada',\n",
       "  'Cape Verde',\n",
       "  'Central African Republic',\n",
       "  'Chad',\n",
       "  'Chile',\n",
       "  'China',\n",
       "  'Colombi',\n",
       "  'Comoros',\n",
       "  'Congo (Brazzaville)',\n",
       "  'Congo',\n",
       "  'Costa Rica',\n",
       "  \"Cote d'Ivoire\",\n",
       "  'Croatia',\n",
       "  'Cuba',\n",
       "  'Cyprus',\n",
       "  'Czech Republic',\n",
       "  'Denmark',\n",
       "  'Djibouti',\n",
       "  'Dominica',\n",
       "  'Dominican Republic',\n",
       "  'East Timor (Timor Timur)',\n",
       "  'Ecuador',\n",
       "  'Egypt',\n",
       "  'El Salvador',\n",
       "  'Equatorial Guinea',\n",
       "  'Eritrea',\n",
       "  'Estonia',\n",
       "  'Ethiopia',\n",
       "  'Fiji',\n",
       "  'France',\n",
       "  'Gabon',\n",
       "  'Gambia, The',\n",
       "  'Georgia',\n",
       "  'Germany',\n",
       "  'Ghana',\n",
       "  'Greece',\n",
       "  'Grenada',\n",
       "  'Guatemala',\n",
       "  'Guinea',\n",
       "  'Guinea-Bissau',\n",
       "  'Guyana',\n",
       "  'Haiti',\n",
       "  'Honduras',\n",
       "  'Hungary',\n",
       "  'India',\n",
       "  'Indonesia',\n",
       "  'Iran',\n",
       "  'Iraq',\n",
       "  'Israel',\n",
       "  'Italy',\n",
       "  'Jamaica',\n",
       "  'Japan',\n",
       "  'Jordan',\n",
       "  'Kazakhstan',\n",
       "  'Kenya',\n",
       "  'Kiribati',\n",
       "  'Korea, North',\n",
       "  'Korea, South',\n",
       "  'Kuwait',\n",
       "  'Kyrgyzstan',\n",
       "  'Laos',\n",
       "  'Latvia',\n",
       "  'Lebanon',\n",
       "  'Lesotho',\n",
       "  'Liberia',\n",
       "  'Libya',\n",
       "  'Liechtenstein',\n",
       "  'Lithuania',\n",
       "  'Luxembourg',\n",
       "  'Macedonia',\n",
       "  ... 82 more items\n",
       "]"
      ]
     },
     "execution_count": 9,
     "metadata": {},
     "output_type": "execute_result"
    }
   ],
   "source": [
    "countriesWithoutLand = []\n",
    "\n",
    "countriesBig.forEach(country => {\n",
    "    (country.indexOf('land') == -1)\n",
    "    ? countriesWithoutLand.push(country)\n",
    "    : console.log(country + ' has land')\n",
    "});\n",
    "\n",
    "countriesWithoutLand"
   ]
  },
  {
   "cell_type": "markdown",
   "metadata": {},
   "source": [
    "7. Extract all the countries containing only four characters from the countries array and print it as array"
   ]
  },
  {
   "cell_type": "code",
   "execution_count": 10,
   "metadata": {},
   "outputs": [
    {
     "name": "stdout",
     "output_type": "stream",
     "text": [
      "Afghanistan no has 4 characters\n",
      "Albania no has 4 characters\n",
      "Algeria no has 4 characters\n",
      "Andorra no has 4 characters\n",
      "Angola no has 4 characters\n",
      "Antigua and Barbuda no has 4 characters\n",
      "Argentina no has 4 characters\n",
      "Armenia no has 4 characters\n",
      "Australia no has 4 characters\n",
      "Austria no has 4 characters\n",
      "Azerbaijan no has 4 characters\n",
      "Bahamas no has 4 characters\n",
      "Bahrain no has 4 characters\n",
      "Bangladesh no has 4 characters\n",
      "Barbados no has 4 characters\n",
      "Belarus no has 4 characters\n",
      "Belgium no has 4 characters\n",
      "Belize no has 4 characters\n",
      "Benin no has 4 characters\n",
      "Bhutan no has 4 characters\n",
      "Bolivia no has 4 characters\n",
      "Bosnia and Herzegovina no has 4 characters\n",
      "Botswana no has 4 characters\n",
      "Brazil no has 4 characters\n",
      "Brunei no has 4 characters\n",
      "Bulgaria no has 4 characters\n",
      "Burkina Faso no has 4 characters\n",
      "Burundi no has 4 characters\n",
      "Cambodia no has 4 characters\n",
      "Cameroon no has 4 characters\n",
      "Canada no has 4 characters\n",
      "Cape Verde no has 4 characters\n",
      "Central African Republic no has 4 characters\n",
      "Chile no has 4 characters\n",
      "China no has 4 characters\n",
      "Colombi no has 4 characters\n",
      "Comoros no has 4 characters\n",
      "Congo (Brazzaville) no has 4 characters\n",
      "Congo no has 4 characters\n",
      "Costa Rica no has 4 characters\n",
      "Cote d'Ivoire no has 4 characters\n",
      "Croatia no has 4 characters\n",
      "Cyprus no has 4 characters\n",
      "Czech Republic no has 4 characters\n",
      "Denmark no has 4 characters\n",
      "Djibouti no has 4 characters\n",
      "Dominica no has 4 characters\n",
      "Dominican Republic no has 4 characters\n",
      "East Timor (Timor Timur) no has 4 characters\n",
      "Ecuador no has 4 characters\n",
      "Egypt no has 4 characters\n",
      "El Salvador no has 4 characters\n",
      "Equatorial Guinea no has 4 characters\n",
      "Eritrea no has 4 characters\n",
      "Estonia no has 4 characters\n",
      "Ethiopia no has 4 characters\n",
      "Finland no has 4 characters\n",
      "France no has 4 characters\n",
      "Gabon no has 4 characters\n",
      "Gambia, The no has 4 characters\n",
      "Georgia no has 4 characters\n",
      "Germany no has 4 characters\n",
      "Ghana no has 4 characters\n",
      "Greece no has 4 characters\n",
      "Grenada no has 4 characters\n",
      "Guatemala no has 4 characters\n",
      "Guinea no has 4 characters\n",
      "Guinea-Bissau no has 4 characters\n",
      "Guyana no has 4 characters\n",
      "Haiti no has 4 characters\n",
      "Honduras no has 4 characters\n",
      "Hungary no has 4 characters\n",
      "Iceland no has 4 characters\n",
      "India no has 4 characters\n",
      "Indonesia no has 4 characters\n",
      "Ireland no has 4 characters\n",
      "Israel no has 4 characters\n",
      "Italy no has 4 characters\n",
      "Jamaica no has 4 characters\n",
      "Japan no has 4 characters\n",
      "Jordan no has 4 characters\n",
      "Kazakhstan no has 4 characters\n",
      "Kenya no has 4 characters\n",
      "Kiribati no has 4 characters\n",
      "Korea, North no has 4 characters\n",
      "Korea, South no has 4 characters\n",
      "Kuwait no has 4 characters\n",
      "Kyrgyzstan no has 4 characters\n",
      "Latvia no has 4 characters\n",
      "Lebanon no has 4 characters\n",
      "Lesotho no has 4 characters\n",
      "Liberia no has 4 characters\n",
      "Libya no has 4 characters\n",
      "Liechtenstein no has 4 characters\n",
      "Lithuania no has 4 characters\n",
      "Luxembourg no has 4 characters\n",
      "Macedonia no has 4 characters\n",
      "Madagascar no has 4 characters\n",
      "Malawi no has 4 characters\n",
      "Malaysia no has 4 characters\n",
      "Maldives no has 4 characters\n",
      "Malta no has 4 characters\n",
      "Marshall Islands no has 4 characters\n",
      "Mauritania no has 4 characters\n",
      "Mauritius no has 4 characters\n",
      "Mexico no has 4 characters\n",
      "Micronesia no has 4 characters\n",
      "Moldova no has 4 characters\n",
      "Monaco no has 4 characters\n",
      "Mongolia no has 4 characters\n",
      "Morocco no has 4 characters\n",
      "Mozambique no has 4 characters\n",
      "Myanmar no has 4 characters\n",
      "Namibia no has 4 characters\n",
      "Nauru no has 4 characters\n",
      "Nepal no has 4 characters\n",
      "Netherlands no has 4 characters\n",
      "New Zealand no has 4 characters\n",
      "Nicaragua no has 4 characters\n",
      "Niger no has 4 characters\n",
      "Nigeria no has 4 characters\n",
      "Norway no has 4 characters\n",
      "Pakistan no has 4 characters\n",
      "Palau no has 4 characters\n",
      "Panama no has 4 characters\n",
      "Papua New Guinea no has 4 characters\n",
      "Paraguay no has 4 characters\n",
      "Philippines no has 4 characters\n",
      "Poland no has 4 characters\n",
      "Portugal no has 4 characters\n",
      "Qatar no has 4 characters\n",
      "Romania no has 4 characters\n",
      "Russia no has 4 characters\n",
      "Rwanda no has 4 characters\n",
      "Saint Kitts and Nevis no has 4 characters\n",
      "Saint Lucia no has 4 characters\n",
      "Saint Vincent no has 4 characters\n",
      "Samoa no has 4 characters\n",
      "San Marino no has 4 characters\n",
      "Sao Tome and Principe no has 4 characters\n",
      "Saudi Arabia no has 4 characters\n",
      "Senegal no has 4 characters\n",
      "Serbia and Montenegro no has 4 characters\n",
      "Seychelles no has 4 characters\n",
      "Sierra Leone no has 4 characters\n",
      "Singapore no has 4 characters\n",
      "Slovakia no has 4 characters\n",
      "Slovenia no has 4 characters\n",
      "Solomon Islands no has 4 characters\n",
      "Somalia no has 4 characters\n",
      "South Africa no has 4 characters\n",
      "Spain no has 4 characters\n",
      "Sri Lanka no has 4 characters\n",
      "Sudan no has 4 characters\n",
      "Suriname no has 4 characters\n",
      "Swaziland no has 4 characters\n",
      "Sweden no has 4 characters\n",
      "Switzerland no has 4 characters\n",
      "Syria no has 4 characters\n",
      "Taiwan no has 4 characters\n",
      "Tajikistan no has 4 characters\n",
      "Tanzania no has 4 characters\n",
      "Thailand no has 4 characters\n",
      "Tonga no has 4 characters\n",
      "Trinidad and Tobago no has 4 characters\n",
      "Tunisia no has 4 characters\n",
      "Turkey no has 4 characters\n",
      "Turkmenistan no has 4 characters\n",
      "Tuvalu no has 4 characters\n",
      "Uganda no has 4 characters\n",
      "Ukraine no has 4 characters\n",
      "United Arab Emirates no has 4 characters\n",
      "United Kingdom no has 4 characters\n",
      "United States no has 4 characters\n",
      "Uruguay no has 4 characters\n",
      "Uzbekistan no has 4 characters\n",
      "Vanuatu no has 4 characters\n",
      "Vatican City no has 4 characters\n",
      "Venezuela no has 4 characters\n",
      "Vietnam no has 4 characters\n",
      "Yemen no has 4 characters\n",
      "Zambia no has 4 characters\n",
      "Zimbabwe no has 4 characters\n"
     ]
    },
    {
     "data": {
      "text/plain": [
       "[\n",
       "  'Chad', 'Cuba',\n",
       "  'Fiji', 'Iran',\n",
       "  'Iraq', 'Laos',\n",
       "  'Mali', 'Oman',\n",
       "  'Peru', 'Togo'\n",
       "]"
      ]
     },
     "execution_count": 10,
     "metadata": {},
     "output_type": "execute_result"
    }
   ],
   "source": [
    "countries4letters = []\n",
    "\n",
    "countriesBig.forEach(country => {\n",
    "    (country.length == 4)\n",
    "    ? countries4letters.push(country)\n",
    "    : console.log(country + ' no has 4 characters')\n",
    "});\n",
    "\n",
    "countries4letters"
   ]
  },
  {
   "cell_type": "markdown",
   "metadata": {},
   "source": [
    "8. Extract all the countries containing two or more words from the countries array and print it as array"
   ]
  },
  {
   "cell_type": "code",
   "execution_count": 11,
   "metadata": {},
   "outputs": [
    {
     "data": {
      "text/plain": [
       "[\n",
       "  'Afghanistan',\n",
       "  'Albania',\n",
       "  'Algeria',\n",
       "  'Andorra',\n",
       "  'Angola',\n",
       "  'Antigua and Barbuda',\n",
       "  'Argentina',\n",
       "  'Armenia',\n",
       "  'Australia',\n",
       "  'Austria',\n",
       "  'Azerbaijan',\n",
       "  'Bahamas',\n",
       "  'Bahrain',\n",
       "  'Bangladesh',\n",
       "  'Barbados',\n",
       "  'Belarus',\n",
       "  'Belgium',\n",
       "  'Belize',\n",
       "  'Benin',\n",
       "  'Bhutan',\n",
       "  'Bolivia',\n",
       "  'Bosnia and Herzegovina',\n",
       "  'Botswana',\n",
       "  'Brazil',\n",
       "  'Brunei',\n",
       "  'Bulgaria',\n",
       "  'Burkina Faso',\n",
       "  'Burundi',\n",
       "  'Cambodia',\n",
       "  'Cameroon',\n",
       "  'Canada',\n",
       "  'Cape Verde',\n",
       "  'Central African Republic',\n",
       "  'Chad',\n",
       "  'Chile',\n",
       "  'China',\n",
       "  'Colombi',\n",
       "  'Comoros',\n",
       "  'Congo (Brazzaville)',\n",
       "  'Congo',\n",
       "  'Costa Rica',\n",
       "  \"Cote d'Ivoire\",\n",
       "  'Croatia',\n",
       "  'Cuba',\n",
       "  'Cyprus',\n",
       "  'Czech Republic',\n",
       "  'Denmark',\n",
       "  'Djibouti',\n",
       "  'Dominica',\n",
       "  'Dominican Republic',\n",
       "  'East Timor (Timor Timur)',\n",
       "  'Ecuador',\n",
       "  'Egypt',\n",
       "  'El Salvador',\n",
       "  'Equatorial Guinea',\n",
       "  'Eritrea',\n",
       "  'Estonia',\n",
       "  'Ethiopia',\n",
       "  'Fiji',\n",
       "  'Finland',\n",
       "  'France',\n",
       "  'Gabon',\n",
       "  'Gambia, The',\n",
       "  'Georgia',\n",
       "  'Germany',\n",
       "  'Ghana',\n",
       "  'Greece',\n",
       "  'Grenada',\n",
       "  'Guatemala',\n",
       "  'Guinea',\n",
       "  'Guinea-Bissau',\n",
       "  'Guyana',\n",
       "  'Haiti',\n",
       "  'Honduras',\n",
       "  'Hungary',\n",
       "  'Iceland',\n",
       "  'India',\n",
       "  'Indonesia',\n",
       "  'Iran',\n",
       "  'Iraq',\n",
       "  'Ireland',\n",
       "  'Israel',\n",
       "  'Italy',\n",
       "  'Jamaica',\n",
       "  'Japan',\n",
       "  'Jordan',\n",
       "  'Kazakhstan',\n",
       "  'Kenya',\n",
       "  'Kiribati',\n",
       "  'Korea, North',\n",
       "  'Korea, South',\n",
       "  'Kuwait',\n",
       "  'Kyrgyzstan',\n",
       "  'Laos',\n",
       "  'Latvia',\n",
       "  'Lebanon',\n",
       "  'Lesotho',\n",
       "  'Liberia',\n",
       "  'Libya',\n",
       "  'Liechtenstein',\n",
       "  ... 93 more items\n",
       "]"
      ]
     },
     "execution_count": 11,
     "metadata": {},
     "output_type": "execute_result"
    }
   ],
   "source": [
    "countries2orMore = []\n",
    "\n",
    "countriesBig.forEach(country => {\n",
    "    (country.length >= 2)\n",
    "    ? countries2orMore.push(country)\n",
    "    : console.log(country + ' no has 2 or more characters')\n",
    "});\n",
    "\n",
    "countries2orMore"
   ]
  },
  {
   "cell_type": "markdown",
   "metadata": {},
   "source": [
    "9. Reverse the countries array and capitalize each country and stored it as an array"
   ]
  },
  {
   "cell_type": "code",
   "execution_count": 12,
   "metadata": {},
   "outputs": [
    {
     "data": {
      "text/plain": [
       "[\n",
       "  'AFGHANISTAN',\n",
       "  'ALBANIA',\n",
       "  'ALGERIA',\n",
       "  'ANDORRA',\n",
       "  'ANGOLA',\n",
       "  'ANTIGUA AND BARBUDA',\n",
       "  'ARGENTINA',\n",
       "  'ARMENIA',\n",
       "  'AUSTRALIA',\n",
       "  'AUSTRIA',\n",
       "  'AZERBAIJAN',\n",
       "  'BAHAMAS',\n",
       "  'BAHRAIN',\n",
       "  'BANGLADESH',\n",
       "  'BARBADOS',\n",
       "  'BELARUS',\n",
       "  'BELGIUM',\n",
       "  'BELIZE',\n",
       "  'BENIN',\n",
       "  'BHUTAN',\n",
       "  'BOLIVIA',\n",
       "  'BOSNIA AND HERZEGOVINA',\n",
       "  'BOTSWANA',\n",
       "  'BRAZIL',\n",
       "  'BRUNEI',\n",
       "  'BULGARIA',\n",
       "  'BURKINA FASO',\n",
       "  'BURUNDI',\n",
       "  'CAMBODIA',\n",
       "  'CAMEROON',\n",
       "  'CANADA',\n",
       "  'CAPE VERDE',\n",
       "  'CENTRAL AFRICAN REPUBLIC',\n",
       "  'CHAD',\n",
       "  'CHILE',\n",
       "  'CHINA',\n",
       "  'COLOMBI',\n",
       "  'COMOROS',\n",
       "  'CONGO (BRAZZAVILLE)',\n",
       "  'CONGO',\n",
       "  'COSTA RICA',\n",
       "  \"COTE D'IVOIRE\",\n",
       "  'CROATIA',\n",
       "  'CUBA',\n",
       "  'CYPRUS',\n",
       "  'CZECH REPUBLIC',\n",
       "  'DENMARK',\n",
       "  'DJIBOUTI',\n",
       "  'DOMINICA',\n",
       "  'DOMINICAN REPUBLIC',\n",
       "  'EAST TIMOR (TIMOR TIMUR)',\n",
       "  'ECUADOR',\n",
       "  'EGYPT',\n",
       "  'EL SALVADOR',\n",
       "  'EQUATORIAL GUINEA',\n",
       "  'ERITREA',\n",
       "  'ESTONIA',\n",
       "  'ETHIOPIA',\n",
       "  'FIJI',\n",
       "  'FINLAND',\n",
       "  'FRANCE',\n",
       "  'GABON',\n",
       "  'GAMBIA, THE',\n",
       "  'GEORGIA',\n",
       "  'GERMANY',\n",
       "  'GHANA',\n",
       "  'GREECE',\n",
       "  'GRENADA',\n",
       "  'GUATEMALA',\n",
       "  'GUINEA',\n",
       "  'GUINEA-BISSAU',\n",
       "  'GUYANA',\n",
       "  'HAITI',\n",
       "  'HONDURAS',\n",
       "  'HUNGARY',\n",
       "  'ICELAND',\n",
       "  'INDIA',\n",
       "  'INDONESIA',\n",
       "  'IRAN',\n",
       "  'IRAQ',\n",
       "  'IRELAND',\n",
       "  'ISRAEL',\n",
       "  'ITALY',\n",
       "  'JAMAICA',\n",
       "  'JAPAN',\n",
       "  'JORDAN',\n",
       "  'KAZAKHSTAN',\n",
       "  'KENYA',\n",
       "  'KIRIBATI',\n",
       "  'KOREA, NORTH',\n",
       "  'KOREA, SOUTH',\n",
       "  'KUWAIT',\n",
       "  'KYRGYZSTAN',\n",
       "  'LAOS',\n",
       "  'LATVIA',\n",
       "  'LEBANON',\n",
       "  'LESOTHO',\n",
       "  'LIBERIA',\n",
       "  'LIBYA',\n",
       "  'LIECHTENSTEIN',\n",
       "  ... 93 more items\n",
       "]"
      ]
     },
     "execution_count": 12,
     "metadata": {},
     "output_type": "execute_result"
    }
   ],
   "source": [
    "arrCountries = []\n",
    "\n",
    "countriesBig.forEach(country => {\n",
    "    arrCountries.push(country.toUpperCase())\n",
    "});\n",
    "\n",
    "arrCountries"
   ]
  },
  {
   "cell_type": "markdown",
   "metadata": {},
   "source": [
    "Data:"
   ]
  },
  {
   "cell_type": "code",
   "execution_count": 2,
   "metadata": {},
   "outputs": [],
   "source": [
    "const countriesBig = [\n",
    "    'Afghanistan',\n",
    "    'Albania',\n",
    "    'Algeria',\n",
    "    'Andorra',\n",
    "    'Angola',\n",
    "    'Antigua and Barbuda',\n",
    "    'Argentina',\n",
    "    'Armenia',\n",
    "    'Australia',\n",
    "    'Austria',\n",
    "    'Azerbaijan',\n",
    "    'Bahamas',\n",
    "    'Bahrain',\n",
    "    'Bangladesh',\n",
    "    'Barbados',\n",
    "    'Belarus',\n",
    "    'Belgium',\n",
    "    'Belize',\n",
    "    'Benin',\n",
    "    'Bhutan',\n",
    "    'Bolivia',\n",
    "    'Bosnia and Herzegovina',\n",
    "    'Botswana',\n",
    "    'Brazil',\n",
    "    'Brunei',\n",
    "    'Bulgaria',\n",
    "    'Burkina Faso',\n",
    "    'Burundi',\n",
    "    'Cambodia',\n",
    "    'Cameroon',\n",
    "    'Canada',\n",
    "    'Cape Verde',\n",
    "    'Central African Republic',\n",
    "    'Chad',\n",
    "    'Chile',\n",
    "    'China',\n",
    "    'Colombi',\n",
    "    'Comoros',\n",
    "    'Congo (Brazzaville)',\n",
    "    'Congo',\n",
    "    'Costa Rica',\n",
    "    \"Cote d'Ivoire\",\n",
    "    'Croatia',\n",
    "    'Cuba',\n",
    "    'Cyprus',\n",
    "    'Czech Republic',\n",
    "    'Denmark',\n",
    "    'Djibouti',\n",
    "    'Dominica',\n",
    "    'Dominican Republic',\n",
    "    'East Timor (Timor Timur)',\n",
    "    'Ecuador',\n",
    "    'Egypt',\n",
    "    'El Salvador',\n",
    "    'Equatorial Guinea',\n",
    "    'Eritrea',\n",
    "    'Estonia',\n",
    "    'Ethiopia',\n",
    "    'Fiji',\n",
    "    'Finland',\n",
    "    'France',\n",
    "    'Gabon',\n",
    "    'Gambia, The',\n",
    "    'Georgia',\n",
    "    'Germany',\n",
    "    'Ghana',\n",
    "    'Greece',\n",
    "    'Grenada',\n",
    "    'Guatemala',\n",
    "    'Guinea',\n",
    "    'Guinea-Bissau',\n",
    "    'Guyana',\n",
    "    'Haiti',\n",
    "    'Honduras',\n",
    "    'Hungary',\n",
    "    'Iceland',\n",
    "    'India',\n",
    "    'Indonesia',\n",
    "    'Iran',\n",
    "    'Iraq',\n",
    "    'Ireland',\n",
    "    'Israel',\n",
    "    'Italy',\n",
    "    'Jamaica',\n",
    "    'Japan',\n",
    "    'Jordan',\n",
    "    'Kazakhstan',\n",
    "    'Kenya',\n",
    "    'Kiribati',\n",
    "    'Korea, North',\n",
    "    'Korea, South',\n",
    "    'Kuwait',\n",
    "    'Kyrgyzstan',\n",
    "    'Laos',\n",
    "    'Latvia',\n",
    "    'Lebanon',\n",
    "    'Lesotho',\n",
    "    'Liberia',\n",
    "    'Libya',\n",
    "    'Liechtenstein',\n",
    "    'Lithuania',\n",
    "    'Luxembourg',\n",
    "    'Macedonia',\n",
    "    'Madagascar',\n",
    "    'Malawi',\n",
    "    'Malaysia',\n",
    "    'Maldives',\n",
    "    'Mali',\n",
    "    'Malta',\n",
    "    'Marshall Islands',\n",
    "    'Mauritania',\n",
    "    'Mauritius',\n",
    "    'Mexico',\n",
    "    'Micronesia',\n",
    "    'Moldova',\n",
    "    'Monaco',\n",
    "    'Mongolia',\n",
    "    'Morocco',\n",
    "    'Mozambique',\n",
    "    'Myanmar',\n",
    "    'Namibia',\n",
    "    'Nauru',\n",
    "    'Nepal',\n",
    "    'Netherlands',\n",
    "    'New Zealand',\n",
    "    'Nicaragua',\n",
    "    'Niger',\n",
    "    'Nigeria',\n",
    "    'Norway',\n",
    "    'Oman',\n",
    "    'Pakistan',\n",
    "    'Palau',\n",
    "    'Panama',\n",
    "    'Papua New Guinea',\n",
    "    'Paraguay',\n",
    "    'Peru',\n",
    "    'Philippines',\n",
    "    'Poland',\n",
    "    'Portugal',\n",
    "    'Qatar',\n",
    "    'Romania',\n",
    "    'Russia',\n",
    "    'Rwanda',\n",
    "    'Saint Kitts and Nevis',\n",
    "    'Saint Lucia',\n",
    "    'Saint Vincent',\n",
    "    'Samoa',\n",
    "    'San Marino',\n",
    "    'Sao Tome and Principe',\n",
    "    'Saudi Arabia',\n",
    "    'Senegal',\n",
    "    'Serbia and Montenegro',\n",
    "    'Seychelles',\n",
    "    'Sierra Leone',\n",
    "    'Singapore',\n",
    "    'Slovakia',\n",
    "    'Slovenia',\n",
    "    'Solomon Islands',\n",
    "    'Somalia',\n",
    "    'South Africa',\n",
    "    'Spain',\n",
    "    'Sri Lanka',\n",
    "    'Sudan',\n",
    "    'Suriname',\n",
    "    'Swaziland',\n",
    "    'Sweden',\n",
    "    'Switzerland',\n",
    "    'Syria',\n",
    "    'Taiwan',\n",
    "    'Tajikistan',\n",
    "    'Tanzania',\n",
    "    'Thailand',\n",
    "    'Togo',\n",
    "    'Tonga',\n",
    "    'Trinidad and Tobago',\n",
    "    'Tunisia',\n",
    "    'Turkey',\n",
    "    'Turkmenistan',\n",
    "    'Tuvalu',\n",
    "    'Uganda',\n",
    "    'Ukraine',\n",
    "    'United Arab Emirates',\n",
    "    'United Kingdom',\n",
    "    'United States',\n",
    "    'Uruguay',\n",
    "    'Uzbekistan',\n",
    "    'Vanuatu',\n",
    "    'Vatican City',\n",
    "    'Venezuela',\n",
    "    'Vietnam',\n",
    "    'Yemen',\n",
    "    'Zambia',\n",
    "    'Zimbabwe'\n",
    "  ]"
   ]
  }
 ],
 "metadata": {
  "kernelspec": {
   "display_name": "JavaScript (Node.js)",
   "language": "javascript",
   "name": "javascript"
  },
  "language_info": {
   "file_extension": ".js",
   "mimetype": "application/javascript",
   "name": "javascript",
   "version": "12.22.9"
  },
  "orig_nbformat": 4
 },
 "nbformat": 4,
 "nbformat_minor": 2
}
