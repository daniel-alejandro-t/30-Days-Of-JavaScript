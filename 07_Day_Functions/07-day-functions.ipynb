{
 "cells": [
  {
   "cell_type": "markdown",
   "metadata": {},
   "source": [
    "# 💻 Exercises\n",
    "## Exercises: Level 1"
   ]
  },
  {
   "cell_type": "markdown",
   "metadata": {},
   "source": [
    "1. Declare a function fullName and it print out your full name."
   ]
  },
  {
   "cell_type": "code",
   "execution_count": 1,
   "metadata": {},
   "outputs": [
    {
     "name": "stdout",
     "output_type": "stream",
     "text": [
      "Marty McFly\n"
     ]
    }
   ],
   "source": [
    "function fullname(firstName, lastName){\n",
    "    console.log(`${firstName} ${lastName}`)\n",
    "}\n",
    "\n",
    "fullname('Marty', 'McFly')"
   ]
  },
  {
   "cell_type": "markdown",
   "metadata": {},
   "source": [
    "2. Declare a function fullName and now it takes firstName, lastName as a parameter and it returns your full - name."
   ]
  },
  {
   "cell_type": "code",
   "execution_count": 5,
   "metadata": {},
   "outputs": [
    {
     "name": "stdout",
     "output_type": "stream",
     "text": [
      "Marty McFly\n"
     ]
    }
   ],
   "source": [
    "const allName = (firstName, lastName) => {\n",
    "    return `${firstName} ${lastName}`\n",
    "}\n",
    "\n",
    "console.log(allName('Marty', 'McFly'))"
   ]
  },
  {
   "cell_type": "markdown",
   "metadata": {},
   "source": [
    "1. Declare a function addNumbers and it takes two parameters and it returns sum."
   ]
  },
  {
   "cell_type": "code",
   "execution_count": 1,
   "metadata": {},
   "outputs": [
    {
     "name": "stdout",
     "output_type": "stream",
     "text": [
      "15\n"
     ]
    }
   ],
   "source": [
    "const addNumbers = (num1, num2) => num1 + num2\n",
    "\n",
    "console.log(addNumbers(6, 9))"
   ]
  },
  {
   "cell_type": "markdown",
   "metadata": {},
   "source": [
    "4. An area of a rectangle is calculated as follows: area = length x width. Write a function which calculates areaOfRectangle."
   ]
  },
  {
   "cell_type": "code",
   "execution_count": 1,
   "metadata": {},
   "outputs": [
    {
     "name": "stdout",
     "output_type": "stream",
     "text": [
      "12\n"
     ]
    }
   ],
   "source": [
    "const areaOfRectangle = (length, width) => length * width\n",
    "\n",
    "console.log(areaOfRectangle(6, 2))"
   ]
  },
  {
   "cell_type": "markdown",
   "metadata": {},
   "source": [
    "5. A perimeter of a rectangle is calculated as follows: perimeter= 2x(length + width). Write a function which calculates perimeterOfRectangle."
   ]
  },
  {
   "cell_type": "code",
   "execution_count": 2,
   "metadata": {},
   "outputs": [
    {
     "name": "stdout",
     "output_type": "stream",
     "text": [
      "20\n"
     ]
    }
   ],
   "source": [
    "const perimeterOfRectangle = (length, width) => 2 * (length + width)\n",
    "\n",
    "console.log(perimeterOfRectangle(2, 8))"
   ]
  },
  {
   "cell_type": "markdown",
   "metadata": {},
   "source": [
    "6. A volume of a rectangular prism is calculated as follows: volume = length x width x height. Write a function which calculates volumeOfRectPrism."
   ]
  },
  {
   "cell_type": "code",
   "execution_count": 3,
   "metadata": {},
   "outputs": [
    {
     "name": "stdout",
     "output_type": "stream",
     "text": [
      "48\n"
     ]
    }
   ],
   "source": [
    "const volumeOfRectPrism = (length, width, height) => length * width * height\n",
    "\n",
    "console.log(volumeOfRectPrism(2, 4, 6))"
   ]
  },
  {
   "cell_type": "markdown",
   "metadata": {},
   "source": [
    "7. Area of a circle is calculated as follows: area = π x r x r. Write a function which calculates areaOfCircle"
   ]
  },
  {
   "cell_type": "code",
   "execution_count": 1,
   "metadata": {},
   "outputs": [
    {
     "name": "stdout",
     "output_type": "stream",
     "text": [
      "100\n"
     ]
    }
   ],
   "source": [
    "const areaOfCircle = (n, r) => n * r * r\n",
    "\n",
    "console.log(areaOfCircle(4, 5))"
   ]
  },
  {
   "cell_type": "markdown",
   "metadata": {},
   "source": [
    "8. Circumference of a circle is calculated as follows: circumference = 2πr. Write a function which calculates circumOfCircle"
   ]
  },
  {
   "cell_type": "code",
   "execution_count": 2,
   "metadata": {},
   "outputs": [
    {
     "name": "stdout",
     "output_type": "stream",
     "text": [
      "12\n"
     ]
    }
   ],
   "source": [
    "const circumOfCircle = (n, r) => 2 * n * r\n",
    "\n",
    "console.log(circumOfCircle(3, 2))"
   ]
  },
  {
   "cell_type": "markdown",
   "metadata": {},
   "source": [
    "9. Density of a substance is calculated as follows:density= mass/volume. Write a function which calculates density."
   ]
  },
  {
   "cell_type": "code",
   "execution_count": 3,
   "metadata": {},
   "outputs": [
    {
     "name": "stdout",
     "output_type": "stream",
     "text": [
      "5\n"
     ]
    }
   ],
   "source": [
    "const density = (mass, volume) => mass / volume\n",
    "\n",
    "console.log(density(10, 2))"
   ]
  },
  {
   "cell_type": "markdown",
   "metadata": {},
   "source": [
    "10. Speed is calculated by dividing the total distance covered by a moving object divided by the total amount of time taken. Write a function which calculates a speed of a moving object, speed."
   ]
  },
  {
   "cell_type": "code",
   "execution_count": 4,
   "metadata": {},
   "outputs": [
    {
     "name": "stdout",
     "output_type": "stream",
     "text": [
      "20\n"
     ]
    }
   ],
   "source": [
    "const speed = (distance, time) => distance / time\n",
    "\n",
    "console.log(speed(100, 5))"
   ]
  },
  {
   "cell_type": "markdown",
   "metadata": {},
   "source": [
    "11. Weight of a substance is calculated as follows: weight = mass x gravity. Write a function which calculates weight."
   ]
  },
  {
   "cell_type": "code",
   "execution_count": 5,
   "metadata": {},
   "outputs": [
    {
     "name": "stdout",
     "output_type": "stream",
     "text": [
      "32\n"
     ]
    }
   ],
   "source": [
    "const calcWeight = (mass, gravity) => mass * gravity\n",
    "\n",
    "console.log(calcWeight(4, 8))"
   ]
  },
  {
   "cell_type": "markdown",
   "metadata": {},
   "source": [
    "12. Temperature in oC can be converted to oF using this formula: oF = (oC x 9/5) + 32. Write a function which convert oC to oF convertCelsiusToFahrenheit."
   ]
  },
  {
   "cell_type": "code",
   "execution_count": 6,
   "metadata": {},
   "outputs": [
    {
     "name": "stdout",
     "output_type": "stream",
     "text": [
      "90\n"
     ]
    }
   ],
   "source": [
    "const convertCelsiusToF = (celsius) => celsius * ( 9 / 5)\n",
    "\n",
    "console.log(convertCelsiusToF(50))"
   ]
  },
  {
   "cell_type": "markdown",
   "metadata": {},
   "source": [
    "13. Body mass index(BMI) is calculated as follows: bmi = weight in Kg / (height x height) in m2. Write a function which calculates bmi. BMI is used to broadly define different weight groups in adults 20 years old or older.Check if a person is underweight, normal, overweight or obese based the information given below.\n",
    "\n",
    "- The same groups apply to both men and women.\n",
    "- Underweight: BMI is less than 18.5\n",
    "- Normal weight: BMI is 18.5 to 24.9\n",
    "- Overweight: BMI is 25 to 29.9\n",
    "- Obese: BMI is 30 or more"
   ]
  },
  {
   "cell_type": "code",
   "execution_count": 24,
   "metadata": {},
   "outputs": [],
   "source": [
    "function bmi(kg, height){\n",
    "    bmi = kg / (height * height)\n",
    "    result = ''\n",
    "\n",
    "    switch (true) {\n",
    "        case bmi < 18.5:\n",
    "            result = 'Underweight'\n",
    "            break;\n",
    "        case bmi <= 24.9:\n",
    "            result = 'Normal'\n",
    "            break;\n",
    "        case bmi <= 29.9:\n",
    "            result = 'Overweight'\n",
    "            break;\n",
    "        default:\n",
    "            result = 'Obese'\n",
    "            break;\n",
    "    }\n",
    "\n",
    "    console.log(bmi)\n",
    "    return result\n",
    "}"
   ]
  },
  {
   "cell_type": "code",
   "execution_count": 25,
   "metadata": {},
   "outputs": [
    {
     "name": "stdout",
     "output_type": "stream",
     "text": [
      "24.913494809688583\n",
      "Overweight\n"
     ]
    }
   ],
   "source": [
    "console.log(bmi(72, 1.70))"
   ]
  },
  {
   "cell_type": "markdown",
   "metadata": {},
   "source": [
    "14. Write a function called checkSeason, it takes a month parameter and returns the season:Autumn, Winter, Spring or Summer."
   ]
  },
  {
   "cell_type": "code",
   "execution_count": 28,
   "metadata": {},
   "outputs": [],
   "source": [
    "function checkSeason(month){\n",
    "    season = ''\n",
    "    \n",
    "    switch (true) {\n",
    "        case month == 11 || month == 12 || month == 1:\n",
    "            season = 'Winter'\n",
    "            break;\n",
    "        case month == 2 || month == 3 || month == 4:\n",
    "            season = 'Spring'\n",
    "            break;\n",
    "        case month == 5 || month == 6 || month == 7:\n",
    "            season = 'Summer'\n",
    "            break;\n",
    "        case month == 8 || month == 9 || month == 10:\n",
    "            season = 'Autumn'\n",
    "            break;\n",
    "        default:\n",
    "            console.log('Month no valid')\n",
    "            break;\n",
    "    }\n",
    "    return season\n",
    "}"
   ]
  },
  {
   "cell_type": "code",
   "execution_count": 29,
   "metadata": {},
   "outputs": [
    {
     "name": "stdout",
     "output_type": "stream",
     "text": [
      "Winter\n"
     ]
    }
   ],
   "source": [
    "console.log(checkSeason(11))"
   ]
  },
  {
   "cell_type": "markdown",
   "metadata": {},
   "source": [
    "15. Math.max returns its largest argument. Write a function findMax that takes three arguments and returns their maximum with out using Math.max method.\n",
    "\n",
    "```\n",
    "console.log(findMax(0, 10, 5))\n",
    "10\n",
    "console.log(findMax(0, -10, -2))\n",
    "0\n",
    "```"
   ]
  },
  {
   "cell_type": "code",
   "execution_count": 30,
   "metadata": {},
   "outputs": [],
   "source": [
    "function findMax (num1, num2, num3){\n",
    "    arr = [num1, num2, num3]\n",
    "\n",
    "    max = arr[0]\n",
    "\n",
    "    arr.forEach(element => {\n",
    "        if (element > max){\n",
    "            max = element\n",
    "        }\n",
    "    });\n",
    "\n",
    "    return max\n",
    "}"
   ]
  },
  {
   "cell_type": "code",
   "execution_count": 31,
   "metadata": {},
   "outputs": [
    {
     "name": "stdout",
     "output_type": "stream",
     "text": [
      "20\n"
     ]
    }
   ],
   "source": [
    "console.log(findMax(10, 15, 20))"
   ]
  },
  {
   "cell_type": "markdown",
   "metadata": {},
   "source": [
    "## Exercises: Level 2"
   ]
  },
  {
   "cell_type": "markdown",
   "metadata": {},
   "source": [
    "1. Linear equation is calculated as follows: ax + by + c = 0. Write a function which calculates value of a linear equation, solveLinEquation."
   ]
  },
  {
   "cell_type": "code",
   "execution_count": 32,
   "metadata": {},
   "outputs": [
    {
     "name": "stdout",
     "output_type": "stream",
     "text": [
      "29\n"
     ]
    }
   ],
   "source": [
    "const solveLinEquation = (a, b, c, x, y) => a * x + b * y + c\n",
    "console.log(solveLinEquation(2, 3, 6, 4, 5))"
   ]
  },
  {
   "cell_type": "markdown",
   "metadata": {},
   "source": [
    "2. Quadratic equation is calculated as follows: ax2 + bx + c = 0. Write a function which calculates value or values of a quadratic equation, solveQuadEquation.\n",
    "\n",
    "```\n",
    "console.log(solveQuadratic()) // {0}\n",
    "console.log(solveQuadratic(1, 4, 4)) // {-2}\n",
    "console.log(solveQuadratic(1, -1, -2)) // {2, -1}\n",
    "console.log(solveQuadratic(1, 7, 12)) // {-3, -4}\n",
    "console.log(solveQuadratic(1, 0, -4)) //{2, -2}\n",
    "console.log(solveQuadratic(1, -1, 0)) //{1, 0}\n",
    "```"
   ]
  },
  {
   "cell_type": "code",
   "execution_count": 2,
   "metadata": {},
   "outputs": [],
   "source": [
    "function solveQuadEquation(a, b, c){\n",
    "    x1 = (-b + Math.sqrt(b * b - 4 * a * c)) / (2 * a)\n",
    "    x2 = (-b - Math.sqrt(b * b - 4 * a * c)) / (2 * a)\n",
    "    return [x1, x2]\n",
    "}"
   ]
  },
  {
   "cell_type": "code",
   "execution_count": 3,
   "metadata": {},
   "outputs": [
    {
     "name": "stdout",
     "output_type": "stream",
     "text": [
      "[ -2, -2 ]\n"
     ]
    }
   ],
   "source": [
    "console.log(solveQuadEquation(1, 4, 4))"
   ]
  },
  {
   "cell_type": "markdown",
   "metadata": {},
   "source": [
    "3. Declare a function name printArray. It takes array as a parameter and it prints out each value of the array."
   ]
  },
  {
   "cell_type": "code",
   "execution_count": 4,
   "metadata": {},
   "outputs": [],
   "source": [
    "function printArray(arr){\n",
    "    arr.forEach(element => {\n",
    "        console.log(element)\n",
    "    }\n",
    "    )\n",
    "}"
   ]
  },
  {
   "cell_type": "code",
   "execution_count": 5,
   "metadata": {},
   "outputs": [
    {
     "name": "stdout",
     "output_type": "stream",
     "text": [
      "1\n",
      "2\n",
      "3\n",
      "4\n",
      "5\n",
      "undefined\n"
     ]
    }
   ],
   "source": [
    "console.log(printArray([1, 2, 3, 4, 5]))"
   ]
  },
  {
   "cell_type": "markdown",
   "metadata": {},
   "source": [
    "4. Write a function name showDateTime which shows time in this format: 08/01/2020 04:08 using the Date object.\n",
    "\n",
    "```\n",
    "showDateTime()\n",
    "08/01/2020 04:08\n",
    "```"
   ]
  },
  {
   "cell_type": "code",
   "execution_count": 6,
   "metadata": {},
   "outputs": [],
   "source": [
    "function showDataTime(date){\n",
    "    day = date.getDate()\n",
    "    month = date.getMonth() + 1\n",
    "    year = date.getFullYear()\n",
    "    hour = date.getHours()\n",
    "    minute = date.getMinutes()\n",
    "    second = date.getSeconds()\n",
    "    return `${day}/${month}/${year} ${hour}:${minute}:${second}`\n",
    "}"
   ]
  },
  {
   "cell_type": "code",
   "execution_count": 7,
   "metadata": {},
   "outputs": [
    {
     "data": {
      "text/plain": [
       "'25/8/2022 12:14:37'"
      ]
     },
     "execution_count": 7,
     "metadata": {},
     "output_type": "execute_result"
    }
   ],
   "source": [
    "showDataTime(new Date())"
   ]
  },
  {
   "cell_type": "markdown",
   "metadata": {},
   "source": [
    "5. Declare a function name swapValues. This function swaps value of x to y.\n",
    "\n",
    "```\n",
    "swapValues(3, 4) // x => 4, y=>3\n",
    "swapValues(4, 5) // x = 5, y = 4\n",
    "```"
   ]
  },
  {
   "cell_type": "code",
   "execution_count": 8,
   "metadata": {},
   "outputs": [
    {
     "name": "stdout",
     "output_type": "stream",
     "text": [
      "[ 2, 1 ]\n"
     ]
    }
   ],
   "source": [
    "const swapValues = (a, b) => [b, a]\n",
    "\n",
    "console.log(swapValues(1, 2))"
   ]
  },
  {
   "cell_type": "markdown",
   "metadata": {},
   "source": [
    "6. Declare a function name reverseArray. It takes array as a parameter and it returns the reverse of the array (don't use method).\n",
    "\n",
    "```\n",
    "console.log(reverseArray([1, 2, 3, 4, 5]))\n",
    "//[5, 4, 3, 2, 1]\n",
    "console.log(reverseArray(['A', 'B', 'C']))\n",
    "//['C', 'B', 'A']\n",
    "```"
   ]
  },
  {
   "cell_type": "code",
   "execution_count": 9,
   "metadata": {},
   "outputs": [],
   "source": [
    "function reverseArray(arr){\n",
    "    newArr = []\n",
    "    for (let i = arr.length - 1; i >= 0; i--) {\n",
    "        newArr.push(arr[i])\n",
    "    }\n",
    "    return newArr\n",
    "}"
   ]
  },
  {
   "cell_type": "code",
   "execution_count": 10,
   "metadata": {},
   "outputs": [
    {
     "name": "stdout",
     "output_type": "stream",
     "text": [
      "[ 5, 4, 3, 2, 1 ]\n"
     ]
    }
   ],
   "source": [
    "console.log(reverseArray([1, 2, 3, 4, 5]))"
   ]
  },
  {
   "cell_type": "markdown",
   "metadata": {},
   "source": [
    "7. Declare a function name capitalizeArray. It takes array as a parameter and it returns the - capitalizedarray."
   ]
  },
  {
   "cell_type": "code",
   "execution_count": 11,
   "metadata": {},
   "outputs": [],
   "source": [
    "function capitalizeArray(arr){\n",
    "    newArr = []\n",
    "    arr.forEach(element => {\n",
    "        newArr.push(element.toUpperCase())\n",
    "    }\n",
    "    )\n",
    "    return newArr\n",
    "}"
   ]
  },
  {
   "cell_type": "code",
   "execution_count": 12,
   "metadata": {},
   "outputs": [
    {
     "data": {
      "text/plain": [
       "[ 'MARTY', 'MCFLY' ]"
      ]
     },
     "execution_count": 12,
     "metadata": {},
     "output_type": "execute_result"
    }
   ],
   "source": [
    "capitalizeArray(['marty', 'mcfly'])"
   ]
  },
  {
   "cell_type": "markdown",
   "metadata": {},
   "source": [
    "8. Declare a function name addItem. It takes an item parameter and it returns an array after adding the item"
   ]
  },
  {
   "cell_type": "code",
   "execution_count": 1,
   "metadata": {},
   "outputs": [
    {
     "name": "stdout",
     "output_type": "stream",
     "text": [
      "[ 1, 2, 3, 4 ]\n"
     ]
    }
   ],
   "source": [
    "function addItem(arr, item){\n",
    "    arr.push(item)\n",
    "    return arr\n",
    "}\n",
    "\n",
    "newArr = addItem([1, 2, 3], 4)\n",
    "console.log(newArr)"
   ]
  },
  {
   "cell_type": "markdown",
   "metadata": {},
   "source": [
    "9. Declare a function name removeItem. It takes an index parameter and it returns an array after removing an item"
   ]
  },
  {
   "cell_type": "code",
   "execution_count": 2,
   "metadata": {},
   "outputs": [
    {
     "data": {
      "text/plain": [
       "[ 1, 2, 3 ]"
      ]
     },
     "execution_count": 2,
     "metadata": {},
     "output_type": "execute_result"
    }
   ],
   "source": [
    "function removeItem(arr, item){\n",
    "    arr.splice(arr.indexOf(item), 1)\n",
    "    return arr\n",
    "}\n",
    "\n",
    "removeItem(newArr, 4)"
   ]
  },
  {
   "cell_type": "markdown",
   "metadata": {},
   "source": [
    "10. Declare a function name sumOfNumbers. It takes a number parameter and it adds all the numbers in that range."
   ]
  },
  {
   "cell_type": "code",
   "execution_count": 3,
   "metadata": {},
   "outputs": [],
   "source": [
    "function sumOfNumbers(a, b){\n",
    "    sum = 0\n",
    "    \n",
    "    for (let i = a; i <= b; i++) {\n",
    "        sum += i\n",
    "    }\n",
    "\n",
    "    return sum\n",
    "}"
   ]
  },
  {
   "cell_type": "code",
   "execution_count": 4,
   "metadata": {},
   "outputs": [
    {
     "data": {
      "text/plain": [
       "55"
      ]
     },
     "execution_count": 4,
     "metadata": {},
     "output_type": "execute_result"
    }
   ],
   "source": [
    "sumOfNumbers(1, 10)"
   ]
  },
  {
   "cell_type": "markdown",
   "metadata": {},
   "source": [
    "11. Declare a function name sumOfOdds. It takes a number parameter and it adds all the odd numbers in that - range."
   ]
  },
  {
   "cell_type": "code",
   "execution_count": 5,
   "metadata": {},
   "outputs": [],
   "source": [
    "function sumOfOdds(a, b){\n",
    "    sum = 0\n",
    "    \n",
    "    if (a % 2 == 0){ a++ }\n",
    "\n",
    "    for (let i = a; i <= b; i+=2) {\n",
    "        sum += i\n",
    "    }\n",
    "\n",
    "    return sum\n",
    "}"
   ]
  },
  {
   "cell_type": "code",
   "execution_count": 6,
   "metadata": {},
   "outputs": [
    {
     "data": {
      "text/plain": [
       "15"
      ]
     },
     "execution_count": 6,
     "metadata": {},
     "output_type": "execute_result"
    }
   ],
   "source": [
    "sumOfOdds(2, 8)"
   ]
  },
  {
   "cell_type": "markdown",
   "metadata": {},
   "source": [
    "12. Declare a function name sumOfEven. It takes a number parameter and it adds all the even numbers in that - range."
   ]
  },
  {
   "cell_type": "code",
   "execution_count": 8,
   "metadata": {},
   "outputs": [],
   "source": [
    "function sumOfEven(a, b){\n",
    "    sum = 0\n",
    "    \n",
    "    if (a % 2 != 0){ a++ }\n",
    "\n",
    "    for (let i = a; i <= b; i+=2) {\n",
    "        sum += i\n",
    "    }\n",
    "\n",
    "    return sum\n",
    "}"
   ]
  },
  {
   "cell_type": "code",
   "execution_count": 9,
   "metadata": {},
   "outputs": [
    {
     "data": {
      "text/plain": [
       "10"
      ]
     },
     "execution_count": 9,
     "metadata": {},
     "output_type": "execute_result"
    }
   ],
   "source": [
    "sumOfEven(3, 6)"
   ]
  },
  {
   "cell_type": "markdown",
   "metadata": {},
   "source": [
    "13. Declare a function name evensAndOdds . It takes a positive integer as parameter and it counts number of evens and odds in the number.\n",
    "\n",
    "```js\n",
    "evensAndOdds(100);\n",
    "The number of odds are 50.\n",
    "The number of evens are 51.\n",
    "```"
   ]
  },
  {
   "cell_type": "code",
   "execution_count": 1,
   "metadata": {},
   "outputs": [],
   "source": [
    "function evenAndOdds(num) {\n",
    "    countEven = 0\n",
    "    countOdd = 0\n",
    "    \n",
    "    for (let i = 0; i <= num; i++) {\n",
    "        (i % 2 == 0)? countEven++ : countOdd++\n",
    "    }\n",
    "\n",
    "    console.log('The number of evens are ' + countEven + '\\n' + \n",
    "                'The number of odds are ' + countOdd)\n",
    "}"
   ]
  },
  {
   "cell_type": "code",
   "execution_count": 2,
   "metadata": {},
   "outputs": [
    {
     "name": "stdout",
     "output_type": "stream",
     "text": [
      "The number of evens are 51\n",
      "The number of odds are 50\n"
     ]
    }
   ],
   "source": [
    "evenAndOdds(100)"
   ]
  },
  {
   "cell_type": "markdown",
   "metadata": {},
   "source": [
    "14. Write a function which takes any number of arguments and return the sum of the arguments\n",
    "\n",
    "```js\n",
    "sum(1, 2, 3) // -> 6\n",
    "sum(1, 2, 3, 4) // -> 10\n",
    "```"
   ]
  },
  {
   "cell_type": "code",
   "execution_count": 5,
   "metadata": {},
   "outputs": [],
   "source": [
    "function sum(...args){\n",
    "    sum = 0\n",
    "\n",
    "    for (const num of args) {\n",
    "        sum += num\n",
    "    }\n",
    "\n",
    "    return sum\n",
    "}"
   ]
  },
  {
   "cell_type": "code",
   "execution_count": 6,
   "metadata": {},
   "outputs": [
    {
     "data": {
      "text/plain": [
       "5"
      ]
     },
     "execution_count": 6,
     "metadata": {},
     "output_type": "execute_result"
    }
   ],
   "source": [
    "sum(3, 2, 0)"
   ]
  },
  {
   "cell_type": "markdown",
   "metadata": {},
   "source": [
    "15. Write a function which generates a randomUserIp."
   ]
  },
  {
   "cell_type": "code",
   "execution_count": 3,
   "metadata": {},
   "outputs": [],
   "source": [
    "const randomNumber = (max, min) => max = Math.floor(Math.random() * (max - min + 1) + min);"
   ]
  },
  {
   "cell_type": "code",
   "execution_count": 9,
   "metadata": {},
   "outputs": [],
   "source": [
    "function randomUserIp(){\n",
    "    myIp = [randomNumber(255, 1), randomNumber(255, 1), randomNumber(255, 1), randomNumber(255, 1)]\n",
    "    return myIp\n",
    "}"
   ]
  },
  {
   "cell_type": "code",
   "execution_count": 13,
   "metadata": {},
   "outputs": [
    {
     "name": "stdout",
     "output_type": "stream",
     "text": [
      "[ 253, 137, 245, 86 ]\n"
     ]
    }
   ],
   "source": [
    "console.log(randomUserIp())"
   ]
  },
  {
   "cell_type": "markdown",
   "metadata": {},
   "source": [
    "16. Write a function which generates a randomMacAddress"
   ]
  },
  {
   "cell_type": "code",
   "execution_count": 14,
   "metadata": {},
   "outputs": [],
   "source": [
    "function randomMacAddress(){\n",
    "    dic = '0123456789ABCDEF'\n",
    "    mac = []\n",
    "\n",
    "    for (let x = 0; x < 4; x++) {\n",
    "        temp = dic.charAt(randomNumber(15, 0)) + dic.charAt(randomNumber(15, 0))\n",
    "        mac.push(temp)\n",
    "    }\n",
    "\n",
    "    return mac \n",
    "}"
   ]
  },
  {
   "cell_type": "code",
   "execution_count": 15,
   "metadata": {},
   "outputs": [
    {
     "data": {
      "text/plain": [
       "[ '71', '33', 'D6', '2E' ]"
      ]
     },
     "execution_count": 15,
     "metadata": {},
     "output_type": "execute_result"
    }
   ],
   "source": [
    "randomMacAddress()"
   ]
  },
  {
   "cell_type": "markdown",
   "metadata": {},
   "source": [
    "17. Declare a function name randomHexaNumberGenerator. When this function is called it generates a random hexadecimal number. The function return the hexadecimal number.\n",
    "\n",
    "```js\n",
    "console.log(randomHexaNumberGenerator());\n",
    "'#ee33df'\n",
    "```"
   ]
  },
  {
   "cell_type": "code",
   "execution_count": 10,
   "metadata": {},
   "outputs": [],
   "source": [
    "function randomHexaNumberGenerator(){\n",
    "    dic = '0123456789ABCDEF'\n",
    "    hexNumber = '#'\n",
    "\n",
    "    for (let x = 0; x < 6; x++) {\n",
    "        hexNumber += dic.charAt(randomNumber(15, 0))\n",
    "    }\n",
    "\n",
    "    return hexNumber\n",
    "}"
   ]
  },
  {
   "cell_type": "code",
   "execution_count": 17,
   "metadata": {},
   "outputs": [
    {
     "data": {
      "text/plain": [
       "'#7147F7'"
      ]
     },
     "execution_count": 17,
     "metadata": {},
     "output_type": "execute_result"
    }
   ],
   "source": [
    "randomHexaNumberGenerator()"
   ]
  },
  {
   "cell_type": "markdown",
   "metadata": {},
   "source": [
    "18. Declare a function name userIdGenerator. When this function is called it generates seven character id. The function return the id.\n",
    "\n",
    "```js\n",
    "console.log(userIdGenerator());\n",
    "41XTDbE\n",
    "```"
   ]
  },
  {
   "cell_type": "code",
   "execution_count": 18,
   "metadata": {},
   "outputs": [],
   "source": [
    "function userIdGenerator() {\n",
    "    dic = '0123456789ABCDEFGHIJKLMNOPQRSTUVWXYZabcdefghijklmnopqrstuvwxyz'\n",
    "    userId = ''\n",
    "\n",
    "    for (let x = 0; x < 7; x++) {\n",
    "        userId += dic.charAt(randomNumber(61, 0))\n",
    "    }\n",
    "\n",
    "    return userId\n",
    "}"
   ]
  },
  {
   "cell_type": "code",
   "execution_count": 19,
   "metadata": {},
   "outputs": [
    {
     "data": {
      "text/plain": [
       "'rqAvVx8'"
      ]
     },
     "execution_count": 19,
     "metadata": {},
     "output_type": "execute_result"
    }
   ],
   "source": [
    "userIdGenerator()"
   ]
  },
  {
   "cell_type": "markdown",
   "metadata": {},
   "source": [
    "## Exercises: Level 3"
   ]
  },
  {
   "cell_type": "markdown",
   "metadata": {},
   "source": [
    "1. Modify the userIdGenerator function. Declare a function name userIdGeneratedByUser. It doesn’t take any parameter but it takes two inputs using prompt(). One of the input is the number of characters and the second input is the number of ids which are supposed to be generated.\n",
    "\n",
    "```js\n",
    "userIdGeneratedByUser()\n",
    "'kcsy2\n",
    "SMFYb\n",
    "bWmeq\n",
    "ZXOYh\n",
    "2Rgxf\n",
    "'\n",
    "userIdGeneratedByUser()\n",
    "'1GCSgPLMaBAVQZ26\n",
    "YD7eFwNQKNs7qXaT\n",
    "ycArC5yrRupyG00S\n",
    "UbGxOFI7UXSWAyKN\n",
    "dIV0SSUTgAdKwStr\n",
    "'\n",
    "```"
   ]
  },
  {
   "cell_type": "code",
   "execution_count": 4,
   "metadata": {},
   "outputs": [],
   "source": [
    "// Can't use prompt() in jupyter notebook\n",
    "\n",
    "function userIdGeneratorByUser(lenght, numIds) {\n",
    "    dic = '0123456789ABCDEFGHIJKLMNOPQRSTUVWXYZabcdefghijklmnopqrstuvwxyz'\n",
    "    arrIds = []\n",
    "\n",
    "    for (let x = 0; x < numIds; x++) {\n",
    "            \n",
    "        id = ''\n",
    "\n",
    "        for (let x = 0; x < lenght; x++) {\n",
    "            id = id + dic.charAt(randomNumber(61, 0))\n",
    "            \n",
    "        }\n",
    "        arrIds.push(id)\n",
    "    }    \n",
    "\n",
    "    return arrIds\n",
    "}"
   ]
  },
  {
   "cell_type": "code",
   "execution_count": 5,
   "metadata": {},
   "outputs": [
    {
     "data": {
      "text/plain": [
       "[\n",
       "  'Gs2TtOu', 'uyPQCP8',\n",
       "  '4ufeq8A', 'NvhkLpA',\n",
       "  'lve3fIN', 'Tmlug6P',\n",
       "  'j917HRc', 'xgNcYKU',\n",
       "  'b10lL8K', 'wCk7NC9'\n",
       "]"
      ]
     },
     "execution_count": 5,
     "metadata": {},
     "output_type": "execute_result"
    }
   ],
   "source": [
    "userIdGeneratorByUser(7, 10)"
   ]
  },
  {
   "cell_type": "markdown",
   "metadata": {},
   "source": [
    "2. Write a function name rgbColorGenerator and it generates rgb colors.\n",
    "\n",
    "```js\n",
    "rgbColorGenerator()\n",
    "rgb(125,244,255)\n",
    "```"
   ]
  },
  {
   "cell_type": "code",
   "execution_count": 8,
   "metadata": {},
   "outputs": [],
   "source": [
    "function rgbColorGenerator(){\n",
    "    red = randomNumber(255, 0)\n",
    "    green = randomNumber(255, 0)\n",
    "    blue = randomNumber(255, 0)\n",
    "    return `rgb(${red}, ${green}, ${blue})`\n",
    "}"
   ]
  },
  {
   "cell_type": "code",
   "execution_count": 9,
   "metadata": {},
   "outputs": [
    {
     "data": {
      "text/plain": [
       "'rgb(232, 144, 201)'"
      ]
     },
     "execution_count": 9,
     "metadata": {},
     "output_type": "execute_result"
    }
   ],
   "source": [
    "rgbColorGenerator()"
   ]
  },
  {
   "cell_type": "markdown",
   "metadata": {},
   "source": [
    "3. Write a function arrayOfHexaColors which return any number of hexadecimal colors in an array."
   ]
  },
  {
   "cell_type": "code",
   "execution_count": 11,
   "metadata": {},
   "outputs": [],
   "source": [
    "function arrayOfHexaColors(num){\n",
    "    arr = []\n",
    "    for (let x = 0; x < num; x++) {\n",
    "        arr.push(randomHexaNumberGenerator())\n",
    "    }\n",
    "    return arr\n",
    "}"
   ]
  },
  {
   "cell_type": "code",
   "execution_count": 12,
   "metadata": {},
   "outputs": [
    {
     "data": {
      "text/plain": [
       "[\n",
       "  '#9D0FFB', '#B4AECE',\n",
       "  '#39805B', '#1433AB',\n",
       "  '#4802FC', '#B92387',\n",
       "  '#AAA57A', '#B691BF',\n",
       "  '#458A12', '#6BE547'\n",
       "]"
      ]
     },
     "execution_count": 12,
     "metadata": {},
     "output_type": "execute_result"
    }
   ],
   "source": [
    "arrayOfHexaColors(10)"
   ]
  },
  {
   "cell_type": "markdown",
   "metadata": {},
   "source": [
    "4. Write a function arrayOfRgbColors which return any number of RGB colors in an array."
   ]
  },
  {
   "cell_type": "code",
   "execution_count": 13,
   "metadata": {},
   "outputs": [],
   "source": [
    "function arrayOfRgbColors(num){\n",
    "    arr = []\n",
    "    for (let x = 0; x < num; x++) {\n",
    "        arr.push(rgbColorGenerator())\n",
    "    }\n",
    "    return arr\n",
    "}"
   ]
  },
  {
   "cell_type": "code",
   "execution_count": 15,
   "metadata": {},
   "outputs": [
    {
     "data": {
      "text/plain": [
       "[\n",
       "  '#AB0ED4', '#CC5070',\n",
       "  '#5EBA91', '#CED5CD',\n",
       "  '#D345F9', '#40AED8',\n",
       "  '#C42245', '#DE4C00',\n",
       "  '#BD2128', '#FAF653'\n",
       "]"
      ]
     },
     "execution_count": 15,
     "metadata": {},
     "output_type": "execute_result"
    }
   ],
   "source": [
    "arrayOfHexaColors(10)"
   ]
  },
  {
   "cell_type": "markdown",
   "metadata": {},
   "source": [
    "5. Write a function convertHexaToRgb which converts hexa color to rgb and it returns an rgb color."
   ]
  },
  {
   "cell_type": "code",
   "execution_count": 16,
   "metadata": {},
   "outputs": [],
   "source": [
    "function convertHexaToRgb(hexa){\n",
    "    hexa = hexa.slice(1)\n",
    "    red = parseInt(hexa.slice(0, 2), 16)\n",
    "    green = parseInt(hexa.slice(2, 4), 16)\n",
    "    blue = parseInt(hexa.slice(4, 6), 16)\n",
    "    return `rgb(${red}, ${green}, ${blue})`\n",
    "}"
   ]
  },
  {
   "cell_type": "code",
   "execution_count": 17,
   "metadata": {},
   "outputs": [
    {
     "data": {
      "text/plain": [
       "'rgb(255, 0, 0)'"
      ]
     },
     "execution_count": 17,
     "metadata": {},
     "output_type": "execute_result"
    }
   ],
   "source": [
    "convertHexaToRgb('#FF0000')"
   ]
  },
  {
   "cell_type": "markdown",
   "metadata": {},
   "source": [
    "6. Write a function convertRgbToHexa which converts rgb to hexa color and it returns an hexa color."
   ]
  },
  {
   "cell_type": "code",
   "execution_count": 18,
   "metadata": {},
   "outputs": [],
   "source": [
    "function convertRgbToHexa(rgb){\n",
    "    rgb = rgb.slice(4, -1)\n",
    "    red = rgb.slice(0, -4)\n",
    "    green = rgb.slice(2, -2)\n",
    "    blue = rgb.slice(4)\n",
    "    return `#${red.toString(16)}${green.toString(16)}${blue.toString(16)}`\n",
    "}"
   ]
  },
  {
   "cell_type": "code",
   "execution_count": 19,
   "metadata": {},
   "outputs": [
    {
     "data": {
      "text/plain": [
       "'#255, 5, 0, 0, 0'"
      ]
     },
     "execution_count": 19,
     "metadata": {},
     "output_type": "execute_result"
    }
   ],
   "source": [
    "convertRgbToHexa('rgb(255, 0, 0)')"
   ]
  },
  {
   "cell_type": "markdown",
   "metadata": {},
   "source": [
    "7. Write a function generateColors which can generate any number of hexa or rgb colors.\n",
    "\n",
    "```js\n",
    "console.log(generateColors('hexa', 3)) // ['#a3e12f', '#03ed55', '#eb3d2b']\n",
    "console.log(generateColors('hexa', 1)) // '#b334ef'\n",
    "console.log(generateColors('rgb', 3)) // ['rgb(5, 55, 175)', 'rgb(50, 105, 100)', 'rgb(15, 26, 80)']\n",
    "console.log(generateColors('rgb', 1)) // 'rgb(33,79, 176)'\n",
    "```"
   ]
  },
  {
   "cell_type": "code",
   "execution_count": 20,
   "metadata": {},
   "outputs": [],
   "source": [
    "function generateColors(type, num){\n",
    "    if (type == 'hexa'){\n",
    "        return arrayOfHexaColors(num)\n",
    "    } else if (type == 'rgb'){\n",
    "        return arrayOfRgbColors(num)\n",
    "    }\n",
    "}"
   ]
  },
  {
   "cell_type": "code",
   "execution_count": 21,
   "metadata": {},
   "outputs": [
    {
     "data": {
      "text/plain": [
       "[\n",
       "  '#504887', '#7FAEAD',\n",
       "  '#6E9122', '#CE0445',\n",
       "  '#AA6C91', '#EA4C77',\n",
       "  '#70A8BD', '#BF7BC2',\n",
       "  '#9F397F', '#AA6C3A'\n",
       "]"
      ]
     },
     "execution_count": 21,
     "metadata": {},
     "output_type": "execute_result"
    }
   ],
   "source": [
    "generateColors('hexa', 10)"
   ]
  },
  {
   "cell_type": "markdown",
   "metadata": {},
   "source": [
    "8. Call your function shuffleArray, it takes an array as a parameter and it returns a shuffled array"
   ]
  },
  {
   "cell_type": "code",
   "execution_count": 23,
   "metadata": {},
   "outputs": [],
   "source": [
    "function shuffleArray(arr){\n",
    "    for (let x = 0; x < arr.length; x++) {\n",
    "        let randomIndex = randomNumber(arr.length, 0)\n",
    "        let temp = arr[x]\n",
    "        arr[x] = arr[randomIndex]\n",
    "        arr[randomIndex] = temp\n",
    "    }\n",
    "    return arr\n",
    "}"
   ]
  },
  {
   "cell_type": "code",
   "execution_count": 24,
   "metadata": {},
   "outputs": [
    {
     "data": {
      "text/plain": [
       "[ 8, 10, 1, 6, 3, 9, 7, 2, 5, undefined, 4 ]"
      ]
     },
     "execution_count": 24,
     "metadata": {},
     "output_type": "execute_result"
    }
   ],
   "source": [
    "shuffleArray([1, 2, 3, 4, 5, 6, 7, 8, 9, 10])"
   ]
  },
  {
   "cell_type": "markdown",
   "metadata": {},
   "source": [
    "9. Call your function factorial, it takes a whole number as a parameter and it return a factorial of the number"
   ]
  },
  {
   "cell_type": "code",
   "execution_count": 25,
   "metadata": {},
   "outputs": [],
   "source": [
    "function factorial(num){\n",
    "    if (num == 0){\n",
    "        return 1\n",
    "    } else {\n",
    "        return num * factorial(num - 1)\n",
    "    }\n",
    "}"
   ]
  },
  {
   "cell_type": "code",
   "execution_count": 26,
   "metadata": {},
   "outputs": [
    {
     "data": {
      "text/plain": [
       "120"
      ]
     },
     "execution_count": 26,
     "metadata": {},
     "output_type": "execute_result"
    }
   ],
   "source": [
    "factorial(5)"
   ]
  },
  {
   "cell_type": "markdown",
   "metadata": {},
   "source": [
    "10. Call your function isEmpty, it takes a parameter and it checks if it is empty or not"
   ]
  },
  {
   "cell_type": "code",
   "execution_count": 27,
   "metadata": {},
   "outputs": [],
   "source": [
    "function isEmpty(obj){\n",
    "    for (const key in obj) {\n",
    "        if (obj.hasOwnProperty(key)) {\n",
    "            return false\n",
    "        }\n",
    "    }\n",
    "    return true\n",
    "}"
   ]
  },
  {
   "cell_type": "code",
   "execution_count": 28,
   "metadata": {},
   "outputs": [
    {
     "data": {
      "text/plain": [
       "true"
      ]
     },
     "execution_count": 28,
     "metadata": {},
     "output_type": "execute_result"
    }
   ],
   "source": [
    "isEmpty(new Date())"
   ]
  },
  {
   "cell_type": "markdown",
   "metadata": {},
   "source": [
    "11. Call your function sum, it takes any number of arguments and it returns the sum."
   ]
  },
  {
   "cell_type": "code",
   "execution_count": 29,
   "metadata": {},
   "outputs": [],
   "source": [
    "function sum(...args){\n",
    "    sum = 0\n",
    "\n",
    "    for (const num of args) {\n",
    "        sum += num\n",
    "    }\n",
    "\n",
    "    return sum\n",
    "}"
   ]
  },
  {
   "cell_type": "code",
   "execution_count": 30,
   "metadata": {},
   "outputs": [
    {
     "data": {
      "text/plain": [
       "5"
      ]
     },
     "execution_count": 30,
     "metadata": {},
     "output_type": "execute_result"
    }
   ],
   "source": [
    "sum(3, 2, 0)"
   ]
  },
  {
   "cell_type": "markdown",
   "metadata": {},
   "source": [
    "12. Write a function called sumOfArrayItems, it takes an array parameter and return the sum of all the items. Check if all the array items are number types. If not give return reasonable feedback."
   ]
  },
  {
   "cell_type": "code",
   "execution_count": 31,
   "metadata": {},
   "outputs": [],
   "source": [
    "function sumOfArrayItems(arr){\n",
    "    sum = 0\n",
    "\n",
    "    for (const num of arr) {\n",
    "        sum += num\n",
    "    }\n",
    "\n",
    "    return sum\n",
    "}"
   ]
  },
  {
   "cell_type": "code",
   "execution_count": 32,
   "metadata": {},
   "outputs": [
    {
     "data": {
      "text/plain": [
       "15"
      ]
     },
     "execution_count": 32,
     "metadata": {},
     "output_type": "execute_result"
    }
   ],
   "source": [
    "sumOfArrayItems([1, 2, 3, 4, 5])"
   ]
  },
  {
   "cell_type": "markdown",
   "metadata": {},
   "source": [
    "13. Write a function called average, it takes an array parameter and returns the average of the items. Check if all the array items are number types. If not give return reasonable feedback."
   ]
  },
  {
   "cell_type": "code",
   "execution_count": 33,
   "metadata": {},
   "outputs": [],
   "source": [
    "function average(arr){\n",
    "    return sumOfArrayItems(arr) / arr.length\n",
    "}"
   ]
  },
  {
   "cell_type": "code",
   "execution_count": 34,
   "metadata": {},
   "outputs": [
    {
     "data": {
      "text/plain": [
       "3"
      ]
     },
     "execution_count": 34,
     "metadata": {},
     "output_type": "execute_result"
    }
   ],
   "source": [
    "average([1, 2, 3, 4, 5])"
   ]
  },
  {
   "cell_type": "markdown",
   "metadata": {},
   "source": [
    "14. Write a function called modifyArray takes array as parameter and modifies the fifth item of the array and return the array. If the array length is less than five it return 'item not found'.\n",
    "\n",
    "```js\n",
    "console.log(modifyArray(['Avocado', 'Tomato', 'Potato','Mango', 'Lemon','Carrot']);\n",
    "```\n",
    "\n",
    "```js\n",
    "['Avocado', 'Tomato', 'Potato','Mango', 'LEMON', 'Carrot']\n",
    "```\n",
    "\n",
    "```js\n",
    "console.log(modifyArray(['Google', 'Facebook','Apple', 'Amazon','Microsoft',  'IBM']);\n",
    "```\n",
    "\n",
    "```js\n",
    "['Google', 'Facebook','Apple', 'Amazon','MICROSOFT',  'IBM']\n",
    "```\n",
    "\n",
    "```js\n",
    "console.log(modifyArray(['Google', 'Facebook','Apple', 'Amazon']);\n",
    "```\n",
    "\n",
    "```js\n",
    " 'Not Found'\n",
    "```"
   ]
  },
  {
   "cell_type": "code",
   "execution_count": 35,
   "metadata": {},
   "outputs": [],
   "source": [
    "function modifyArray(arr){\n",
    "    if ( arr.length >= 5 ){\n",
    "        arr[5] = arr[5].toUpperCase()\n",
    "    } else {\n",
    "        console.log('Ítem not found')\n",
    "    }\n",
    "\n",
    "    return arr\n",
    "}"
   ]
  },
  {
   "cell_type": "code",
   "execution_count": 36,
   "metadata": {},
   "outputs": [
    {
     "data": {
      "text/plain": [
       "[ 'a', 'b', 'c', 'd', 'e', 'F' ]"
      ]
     },
     "execution_count": 36,
     "metadata": {},
     "output_type": "execute_result"
    }
   ],
   "source": [
    "modifyArray(['a', 'b', 'c', 'd', 'e', 'f'])"
   ]
  },
  {
   "cell_type": "markdown",
   "metadata": {},
   "source": [
    "15. Write a function called isPrime, which checks if a number is prime number."
   ]
  },
  {
   "cell_type": "code",
   "execution_count": 37,
   "metadata": {},
   "outputs": [],
   "source": [
    "function isPrime(num){\n",
    "    if (num < 2){\n",
    "        return false\n",
    "    } else {\n",
    "        for (let x = 2; x < num; x++) {\n",
    "            if (num % x == 0){\n",
    "                return false\n",
    "            }\n",
    "        }\n",
    "        return true\n",
    "    }\n",
    "}"
   ]
  },
  {
   "cell_type": "code",
   "execution_count": 38,
   "metadata": {},
   "outputs": [
    {
     "data": {
      "text/plain": [
       "true"
      ]
     },
     "execution_count": 38,
     "metadata": {},
     "output_type": "execute_result"
    }
   ],
   "source": [
    "isPrime(5)"
   ]
  },
  {
   "cell_type": "markdown",
   "metadata": {},
   "source": [
    "16. Write a functions which checks if all items are unique in the array."
   ]
  },
  {
   "cell_type": "code",
   "execution_count": 39,
   "metadata": {},
   "outputs": [],
   "source": [
    "function itemsAreUnique(arr){\n",
    "    for (let x = 0; x < arr.length; x++) {\n",
    "        for (let y = x + 1; y < arr.length; y++) {\n",
    "            if (arr[x] == arr[y]){\n",
    "                return false\n",
    "            }\n",
    "        }\n",
    "    }\n",
    "    return true\n",
    "}"
   ]
  },
  {
   "cell_type": "code",
   "execution_count": 40,
   "metadata": {},
   "outputs": [
    {
     "data": {
      "text/plain": [
       "true"
      ]
     },
     "execution_count": 40,
     "metadata": {},
     "output_type": "execute_result"
    }
   ],
   "source": [
    "itemsAreUnique([1, 2, 3, 4, 5])"
   ]
  },
  {
   "cell_type": "markdown",
   "metadata": {},
   "source": [
    "17. Write a function which checks if all the items of the array are the same data type."
   ]
  },
  {
   "cell_type": "code",
   "execution_count": 41,
   "metadata": {},
   "outputs": [],
   "source": [
    "function itemsAreSameType(arr){\n",
    "    for (let x = 0; x < arr.length; x++) {\n",
    "        for (let y = x + 1; y < arr.length; y++) {\n",
    "            if (typeof arr[x] != typeof arr[y]){\n",
    "                return false\n",
    "            }\n",
    "        }\n",
    "    }\n",
    "    return true\n",
    "}"
   ]
  },
  {
   "cell_type": "code",
   "execution_count": 42,
   "metadata": {},
   "outputs": [
    {
     "data": {
      "text/plain": [
       "true"
      ]
     },
     "execution_count": 42,
     "metadata": {},
     "output_type": "execute_result"
    }
   ],
   "source": [
    "itemsAreSameType([1, 2, 3, 4, 5])"
   ]
  },
  {
   "cell_type": "markdown",
   "metadata": {},
   "source": [
    "18. JavaScript variable name does not support special characters or symbols except $ or _. Write a function isValidVariable which check if a variable is valid or invalid variable."
   ]
  },
  {
   "cell_type": "code",
   "execution_count": 43,
   "metadata": {},
   "outputs": [],
   "source": [
    "function isValidVariableName(name){\n",
    "    if (name.length < 1){\n",
    "        return false\n",
    "    } else {\n",
    "        for (let x = 0; x < name.length; x++) {\n",
    "            if (name[x] == ' '){\n",
    "                return false\n",
    "            }\n",
    "        }\n",
    "        return true\n",
    "    }\n",
    "}"
   ]
  },
  {
   "cell_type": "code",
   "execution_count": 44,
   "metadata": {},
   "outputs": [
    {
     "data": {
      "text/plain": [
       "true"
      ]
     },
     "execution_count": 44,
     "metadata": {},
     "output_type": "execute_result"
    }
   ],
   "source": [
    "isValidVariableName('var')"
   ]
  },
  {
   "cell_type": "markdown",
   "metadata": {},
   "source": [
    "19. Write a function which returns array of seven random numbers in a range of 0-9. All the numbers must be unique.\n",
    "\n",
    "```js\n",
    "sevenRandomNumbers()\n",
    "[(1, 4, 5, 7, 9, 8, 0)]\n",
    "```"
   ]
  },
  {
   "cell_type": "code",
   "execution_count": 45,
   "metadata": {},
   "outputs": [],
   "source": [
    "function sevenRandomNumbers(){\n",
    "    arr = []\n",
    "    for (let x = 0; x < 7; x++) {\n",
    "        arr.push(randomNumber(100, 0))\n",
    "    }\n",
    "    return arr\n",
    "}"
   ]
  },
  {
   "cell_type": "code",
   "execution_count": 46,
   "metadata": {},
   "outputs": [
    {
     "data": {
      "text/plain": [
       "[\n",
       "  47, 28, 54, 49,\n",
       "  49, 43, 84\n",
       "]"
      ]
     },
     "execution_count": 46,
     "metadata": {},
     "output_type": "execute_result"
    }
   ],
   "source": [
    "sevenRandomNumbers()"
   ]
  },
  {
   "cell_type": "markdown",
   "metadata": {},
   "source": [
    "20. Write a function called reverseCountries, it takes countries array and first it copy the array and returns the reverse of the original array"
   ]
  },
  {
   "cell_type": "code",
   "execution_count": 48,
   "metadata": {},
   "outputs": [],
   "source": [
    "function reverseCountries(countries){\n",
    "    arr = []\n",
    "    for (let x = 0; x < countries.length; x++) {\n",
    "        arr.unshift(countries[x])\n",
    "    }\n",
    "    return arr\n",
    "}"
   ]
  },
  {
   "cell_type": "code",
   "execution_count": 49,
   "metadata": {},
   "outputs": [
    {
     "data": {
      "text/plain": [
       "[ 'Uruguay', 'Chile', 'Argentina', 'Brazil' ]"
      ]
     },
     "execution_count": 49,
     "metadata": {},
     "output_type": "execute_result"
    }
   ],
   "source": [
    "reverseCountries(['Brazil', 'Argentina', 'Chile', 'Uruguay'])"
   ]
  },
  {
   "cell_type": "code",
   "execution_count": 50,
   "metadata": {},
   "outputs": [
    {
     "data": {
      "text/plain": [
       "[\n",
       "  'Zimbabwe',            'Zambia',                'Yemen',\n",
       "  'Vietnam',             'Venezuela',             'Vatican City',\n",
       "  'Vanuatu',             'Uzbekistan',            'Uruguay',\n",
       "  'United States',       'United Kingdom',        'United Arab Emirates',\n",
       "  'Ukraine',             'Uganda',                'Tuvalu',\n",
       "  'Turkmenistan',        'Turkey',                'Tunisia',\n",
       "  'Trinidad and Tobago', 'Tonga',                 'Togo',\n",
       "  'Thailand',            'Tanzania',              'Tajikistan',\n",
       "  'Taiwan',              'Syria',                 'Switzerland',\n",
       "  'Sweden',              'Swaziland',             'Suriname',\n",
       "  'Sudan',               'Sri Lanka',             'Spain',\n",
       "  'South Africa',        'Somalia',               'Solomon Islands',\n",
       "  'Slovenia',            'Slovakia',              'Singapore',\n",
       "  'Sierra Leone',        'Seychelles',            'Serbia and Montenegro',\n",
       "  'Senegal',             'Saudi Arabia',          'Sao Tome and Principe',\n",
       "  'San Marino',          'Samoa',                 'Saint Vincent',\n",
       "  'Saint Lucia',         'Saint Kitts and Nevis', 'Rwanda',\n",
       "  'Russia',              'Romania',               'Qatar',\n",
       "  'Portugal',            'Poland',                'Philippines',\n",
       "  'Peru',                'Paraguay',              'Papua New Guinea',\n",
       "  'Panama',              'Palau',                 'Pakistan',\n",
       "  'Oman',                'Norway',                'Nigeria',\n",
       "  'Niger',               'Nicaragua',             'New Zealand',\n",
       "  'Netherlands',         'Nepal',                 'Nauru',\n",
       "  'Namibia',             'Myanmar',               'Mozambique',\n",
       "  'Morocco',             'Mongolia',              'Monaco',\n",
       "  'Moldova',             'Micronesia',            'Mexico',\n",
       "  'Mauritius',           'Mauritania',            'Marshall Islands',\n",
       "  'Malta',               'Mali',                  'Maldives',\n",
       "  'Malaysia',            'Malawi',                'Madagascar',\n",
       "  'Macedonia',           'Luxembourg',            'Lithuania',\n",
       "  'Liechtenstein',       'Libya',                 'Liberia',\n",
       "  'Lesotho',             'Lebanon',               'Latvia',\n",
       "  'Laos',\n",
       "  ... 93 more items\n",
       "]"
      ]
     },
     "execution_count": 50,
     "metadata": {},
     "output_type": "execute_result"
    }
   ],
   "source": [
    "reverseCountries(countries)"
   ]
  },
  {
   "cell_type": "code",
   "execution_count": 47,
   "metadata": {},
   "outputs": [],
   "source": [
    "const countries = [\n",
    "    'Afghanistan',\n",
    "    'Albania',\n",
    "    'Algeria',\n",
    "    'Andorra',\n",
    "    'Angola',\n",
    "    'Antigua and Barbuda',\n",
    "    'Argentina',\n",
    "    'Armenia',\n",
    "    'Australia',\n",
    "    'Austria',\n",
    "    'Azerbaijan',\n",
    "    'Bahamas',\n",
    "    'Bahrain',\n",
    "    'Bangladesh',\n",
    "    'Barbados',\n",
    "    'Belarus',\n",
    "    'Belgium',\n",
    "    'Belize',\n",
    "    'Benin',\n",
    "    'Bhutan',\n",
    "    'Bolivia',\n",
    "    'Bosnia and Herzegovina',\n",
    "    'Botswana',\n",
    "    'Brazil',\n",
    "    'Brunei',\n",
    "    'Bulgaria',\n",
    "    'Burkina Faso',\n",
    "    'Burundi',\n",
    "    'Cambodia',\n",
    "    'Cameroon',\n",
    "    'Canada',\n",
    "    'Cape Verde',\n",
    "    'Central African Republic',\n",
    "    'Chad',\n",
    "    'Chile',\n",
    "    'China',\n",
    "    'Colombi',\n",
    "    'Comoros',\n",
    "    'Congo (Brazzaville)',\n",
    "    'Congo',\n",
    "    'Costa Rica',\n",
    "    \"Cote d'Ivoire\",\n",
    "    'Croatia',\n",
    "    'Cuba',\n",
    "    'Cyprus',\n",
    "    'Czech Republic',\n",
    "    'Denmark',\n",
    "    'Djibouti',\n",
    "    'Dominica',\n",
    "    'Dominican Republic',\n",
    "    'East Timor (Timor Timur)',\n",
    "    'Ecuador',\n",
    "    'Egypt',\n",
    "    'El Salvador',\n",
    "    'Equatorial Guinea',\n",
    "    'Eritrea',\n",
    "    'Estonia',\n",
    "    'Ethiopia',\n",
    "    'Fiji',\n",
    "    'Finland',\n",
    "    'France',\n",
    "    'Gabon',\n",
    "    'Gambia, The',\n",
    "    'Georgia',\n",
    "    'Germany',\n",
    "    'Ghana',\n",
    "    'Greece',\n",
    "    'Grenada',\n",
    "    'Guatemala',\n",
    "    'Guinea',\n",
    "    'Guinea-Bissau',\n",
    "    'Guyana',\n",
    "    'Haiti',\n",
    "    'Honduras',\n",
    "    'Hungary',\n",
    "    'Iceland',\n",
    "    'India',\n",
    "    'Indonesia',\n",
    "    'Iran',\n",
    "    'Iraq',\n",
    "    'Ireland',\n",
    "    'Israel',\n",
    "    'Italy',\n",
    "    'Jamaica',\n",
    "    'Japan',\n",
    "    'Jordan',\n",
    "    'Kazakhstan',\n",
    "    'Kenya',\n",
    "    'Kiribati',\n",
    "    'Korea, North',\n",
    "    'Korea, South',\n",
    "    'Kuwait',\n",
    "    'Kyrgyzstan',\n",
    "    'Laos',\n",
    "    'Latvia',\n",
    "    'Lebanon',\n",
    "    'Lesotho',\n",
    "    'Liberia',\n",
    "    'Libya',\n",
    "    'Liechtenstein',\n",
    "    'Lithuania',\n",
    "    'Luxembourg',\n",
    "    'Macedonia',\n",
    "    'Madagascar',\n",
    "    'Malawi',\n",
    "    'Malaysia',\n",
    "    'Maldives',\n",
    "    'Mali',\n",
    "    'Malta',\n",
    "    'Marshall Islands',\n",
    "    'Mauritania',\n",
    "    'Mauritius',\n",
    "    'Mexico',\n",
    "    'Micronesia',\n",
    "    'Moldova',\n",
    "    'Monaco',\n",
    "    'Mongolia',\n",
    "    'Morocco',\n",
    "    'Mozambique',\n",
    "    'Myanmar',\n",
    "    'Namibia',\n",
    "    'Nauru',\n",
    "    'Nepal',\n",
    "    'Netherlands',\n",
    "    'New Zealand',\n",
    "    'Nicaragua',\n",
    "    'Niger',\n",
    "    'Nigeria',\n",
    "    'Norway',\n",
    "    'Oman',\n",
    "    'Pakistan',\n",
    "    'Palau',\n",
    "    'Panama',\n",
    "    'Papua New Guinea',\n",
    "    'Paraguay',\n",
    "    'Peru',\n",
    "    'Philippines',\n",
    "    'Poland',\n",
    "    'Portugal',\n",
    "    'Qatar',\n",
    "    'Romania',\n",
    "    'Russia',\n",
    "    'Rwanda',\n",
    "    'Saint Kitts and Nevis',\n",
    "    'Saint Lucia',\n",
    "    'Saint Vincent',\n",
    "    'Samoa',\n",
    "    'San Marino',\n",
    "    'Sao Tome and Principe',\n",
    "    'Saudi Arabia',\n",
    "    'Senegal',\n",
    "    'Serbia and Montenegro',\n",
    "    'Seychelles',\n",
    "    'Sierra Leone',\n",
    "    'Singapore',\n",
    "    'Slovakia',\n",
    "    'Slovenia',\n",
    "    'Solomon Islands',\n",
    "    'Somalia',\n",
    "    'South Africa',\n",
    "    'Spain',\n",
    "    'Sri Lanka',\n",
    "    'Sudan',\n",
    "    'Suriname',\n",
    "    'Swaziland',\n",
    "    'Sweden',\n",
    "    'Switzerland',\n",
    "    'Syria',\n",
    "    'Taiwan',\n",
    "    'Tajikistan',\n",
    "    'Tanzania',\n",
    "    'Thailand',\n",
    "    'Togo',\n",
    "    'Tonga',\n",
    "    'Trinidad and Tobago',\n",
    "    'Tunisia',\n",
    "    'Turkey',\n",
    "    'Turkmenistan',\n",
    "    'Tuvalu',\n",
    "    'Uganda',\n",
    "    'Ukraine',\n",
    "    'United Arab Emirates',\n",
    "    'United Kingdom',\n",
    "    'United States',\n",
    "    'Uruguay',\n",
    "    'Uzbekistan',\n",
    "    'Vanuatu',\n",
    "    'Vatican City',\n",
    "    'Venezuela',\n",
    "    'Vietnam',\n",
    "    'Yemen',\n",
    "    'Zambia',\n",
    "    'Zimbabwe'\n",
    "  ]\n",
    "  "
   ]
  }
 ],
 "metadata": {
  "kernelspec": {
   "display_name": "JavaScript (Node.js)",
   "language": "javascript",
   "name": "javascript"
  },
  "language_info": {
   "file_extension": ".js",
   "mimetype": "application/javascript",
   "name": "javascript",
   "version": "12.22.9"
  },
  "orig_nbformat": 4
 },
 "nbformat": 4,
 "nbformat_minor": 2
}
